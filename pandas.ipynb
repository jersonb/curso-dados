{
  "cells": [
    {
      "cell_type": "code",
      "execution_count": 2,
      "metadata": {
        "id": "2Vq5HjI2aJoO"
      },
      "outputs": [],
      "source": [
        "# importando bibliotecas\n",
        "import pandas as pd"
      ]
    },
    {
      "cell_type": "code",
      "execution_count": 3,
      "metadata": {
        "id": "TSiSgqnbatg9"
      },
      "outputs": [],
      "source": [
        "# lendo o conjunto de dados\n",
        "df = pd.read_csv(\"acidentes2022.csv\", on_bad_lines=\"skip\", sep=\";\")"
      ]
    },
    {
      "cell_type": "code",
      "execution_count": 4,
      "metadata": {
        "colab": {
          "base_uri": "https://localhost:8080/",
          "height": 231
        },
        "id": "kxVBBaZIdE9N",
        "outputId": "cece0b57-747d-4305-e7b1-069a90973fb9"
      },
      "outputs": [
        {
          "data": {
            "text/html": [
              "<div>\n",
              "<style scoped>\n",
              "    .dataframe tbody tr th:only-of-type {\n",
              "        vertical-align: middle;\n",
              "    }\n",
              "\n",
              "    .dataframe tbody tr th {\n",
              "        vertical-align: top;\n",
              "    }\n",
              "\n",
              "    .dataframe thead th {\n",
              "        text-align: right;\n",
              "    }\n",
              "</style>\n",
              "<table border=\"1\" class=\"dataframe\">\n",
              "  <thead>\n",
              "    <tr style=\"text-align: right;\">\n",
              "      <th></th>\n",
              "      <th>Protocolo</th>\n",
              "      <th>data</th>\n",
              "      <th>hora</th>\n",
              "      <th>natureza</th>\n",
              "      <th>situacao</th>\n",
              "      <th>bairro</th>\n",
              "      <th>endereco</th>\n",
              "      <th>numero</th>\n",
              "      <th>detalhe_endereco_acidente</th>\n",
              "      <th>complemento</th>\n",
              "      <th>...</th>\n",
              "      <th>sinalizacao</th>\n",
              "      <th>condicao_via</th>\n",
              "      <th>conservacao_via</th>\n",
              "      <th>ponto_controle</th>\n",
              "      <th>situacao_placa</th>\n",
              "      <th>velocidade_max_via</th>\n",
              "      <th>mao_direcao</th>\n",
              "      <th>divisao_via1</th>\n",
              "      <th>divisao_via2</th>\n",
              "      <th>divisao_via3</th>\n",
              "    </tr>\n",
              "  </thead>\n",
              "  <tbody>\n",
              "    <tr>\n",
              "      <th>0</th>\n",
              "      <td>202200001,0</td>\n",
              "      <td>2022-01-01</td>\n",
              "      <td>NaN</td>\n",
              "      <td>COM VÍTIMA</td>\n",
              "      <td>FINALIZADA</td>\n",
              "      <td>JORDÃO</td>\n",
              "      <td>AV MARIA IRENE</td>\n",
              "      <td>130,0</td>\n",
              "      <td>NaN</td>\n",
              "      <td>NaN</td>\n",
              "      <td>...</td>\n",
              "      <td>Não existente</td>\n",
              "      <td>Seca</td>\n",
              "      <td>Perfeito estado</td>\n",
              "      <td>Não existe</td>\n",
              "      <td>Não há placas</td>\n",
              "      <td>NaN</td>\n",
              "      <td>Dupla</td>\n",
              "      <td>Não existe</td>\n",
              "      <td>NaN</td>\n",
              "      <td>NaN</td>\n",
              "    </tr>\n",
              "    <tr>\n",
              "      <th>1</th>\n",
              "      <td>202200007,0</td>\n",
              "      <td>2022-01-01</td>\n",
              "      <td>NaN</td>\n",
              "      <td>SEM VÍTIMA</td>\n",
              "      <td>FINALIZADA</td>\n",
              "      <td>IMBIRIBEIRA</td>\n",
              "      <td>AV MARECHAL MASCARENHAS DE MORAES</td>\n",
              "      <td>NaN</td>\n",
              "      <td>NaN</td>\n",
              "      <td>LADO OPOSTO AO NÚMERO 4728</td>\n",
              "      <td>...</td>\n",
              "      <td>Perfeito estado</td>\n",
              "      <td>Seca</td>\n",
              "      <td>Perfeito estado</td>\n",
              "      <td>Faixa de pedestre</td>\n",
              "      <td>Não há placas</td>\n",
              "      <td>NaN</td>\n",
              "      <td>Dupla</td>\n",
              "      <td>Canteiro central</td>\n",
              "      <td>NaN</td>\n",
              "      <td>NaN</td>\n",
              "    </tr>\n",
              "  </tbody>\n",
              "</table>\n",
              "<p>2 rows × 38 columns</p>\n",
              "</div>"
            ],
            "text/plain": [
              "     Protocolo        data  hora    natureza    situacao       bairro  \\\n",
              "0  202200001,0  2022-01-01   NaN  COM VÍTIMA  FINALIZADA       JORDÃO   \n",
              "1  202200007,0  2022-01-01   NaN  SEM VÍTIMA  FINALIZADA  IMBIRIBEIRA   \n",
              "\n",
              "                            endereco numero detalhe_endereco_acidente  \\\n",
              "0                     AV MARIA IRENE  130,0                       NaN   \n",
              "1  AV MARECHAL MASCARENHAS DE MORAES    NaN                       NaN   \n",
              "\n",
              "                  complemento  ...      sinalizacao condicao_via  \\\n",
              "0                         NaN  ...    Não existente         Seca   \n",
              "1  LADO OPOSTO AO NÚMERO 4728  ...  Perfeito estado         Seca   \n",
              "\n",
              "   conservacao_via     ponto_controle situacao_placa velocidade_max_via  \\\n",
              "0  Perfeito estado         Não existe  Não há placas                NaN   \n",
              "1  Perfeito estado  Faixa de pedestre  Não há placas                NaN   \n",
              "\n",
              "  mao_direcao      divisao_via1 divisao_via2 divisao_via3  \n",
              "0       Dupla        Não existe          NaN          NaN  \n",
              "1       Dupla  Canteiro central          NaN          NaN  \n",
              "\n",
              "[2 rows x 38 columns]"
            ]
          },
          "execution_count": 4,
          "metadata": {},
          "output_type": "execute_result"
        }
      ],
      "source": [
        "# Exibir as 5 primeiras linhas\n",
        "df.head(2)"
      ]
    },
    {
      "cell_type": "code",
      "execution_count": 5,
      "metadata": {
        "colab": {
          "base_uri": "https://localhost:8080/"
        },
        "id": "seDCP8K5ebi-",
        "outputId": "23d756ed-bc52-4d49-ffd5-58d049f0607c"
      },
      "outputs": [
        {
          "data": {
            "text/plain": [
              "(2669, 38)"
            ]
          },
          "execution_count": 5,
          "metadata": {},
          "output_type": "execute_result"
        }
      ],
      "source": [
        "# retornando o total de linhas e colunas\n",
        "df.shape"
      ]
    },
    {
      "cell_type": "code",
      "execution_count": 6,
      "metadata": {
        "colab": {
          "base_uri": "https://localhost:8080/"
        },
        "id": "vd7p3NTPf9zp",
        "outputId": "e08de692-db73-4167-9a6b-c9d23687ccfe"
      },
      "outputs": [
        {
          "data": {
            "text/plain": [
              "Index(['Protocolo', 'data', 'hora', 'natureza', 'situacao', 'bairro',\n",
              "       'endereco', 'numero', 'detalhe_endereco_acidente', 'complemento',\n",
              "       'bairro_cruzamento', 'num_semaforo', 'sentido_via', 'tipo', 'auto',\n",
              "       'moto', 'ciclom', 'ciclista', 'pedestre', 'onibus', 'caminhao',\n",
              "       'viatura', 'outros', 'vitimas', 'vitimasfatais', 'acidente_verificado',\n",
              "       'tempo_clima', 'situacao_semaforo', 'sinalizacao', 'condicao_via',\n",
              "       'conservacao_via', 'ponto_controle', 'situacao_placa',\n",
              "       'velocidade_max_via', 'mao_direcao', 'divisao_via1', 'divisao_via2',\n",
              "       'divisao_via3'],\n",
              "      dtype='object')"
            ]
          },
          "execution_count": 6,
          "metadata": {},
          "output_type": "execute_result"
        }
      ],
      "source": [
        "# Retornando o nome de todas as colunas\n",
        "df.columns"
      ]
    },
    {
      "cell_type": "code",
      "execution_count": 7,
      "metadata": {
        "id": "lwbj6ZRxgHLt"
      },
      "outputs": [],
      "source": [
        "# exibindo todas as colunas\n",
        "pd.set_option(\"display.max_columns\", None)"
      ]
    },
    {
      "cell_type": "code",
      "execution_count": 8,
      "metadata": {
        "colab": {
          "base_uri": "https://localhost:8080/",
          "height": 201
        },
        "id": "UH2FVYWjgdNz",
        "outputId": "f9ecf6f8-d878-41e3-c7ce-1b4eea8c643f"
      },
      "outputs": [
        {
          "data": {
            "text/html": [
              "<div>\n",
              "<style scoped>\n",
              "    .dataframe tbody tr th:only-of-type {\n",
              "        vertical-align: middle;\n",
              "    }\n",
              "\n",
              "    .dataframe tbody tr th {\n",
              "        vertical-align: top;\n",
              "    }\n",
              "\n",
              "    .dataframe thead th {\n",
              "        text-align: right;\n",
              "    }\n",
              "</style>\n",
              "<table border=\"1\" class=\"dataframe\">\n",
              "  <thead>\n",
              "    <tr style=\"text-align: right;\">\n",
              "      <th></th>\n",
              "      <th>Protocolo</th>\n",
              "      <th>data</th>\n",
              "      <th>hora</th>\n",
              "      <th>natureza</th>\n",
              "      <th>situacao</th>\n",
              "      <th>bairro</th>\n",
              "      <th>endereco</th>\n",
              "      <th>numero</th>\n",
              "      <th>detalhe_endereco_acidente</th>\n",
              "      <th>complemento</th>\n",
              "      <th>bairro_cruzamento</th>\n",
              "      <th>num_semaforo</th>\n",
              "      <th>sentido_via</th>\n",
              "      <th>tipo</th>\n",
              "      <th>auto</th>\n",
              "      <th>moto</th>\n",
              "      <th>ciclom</th>\n",
              "      <th>ciclista</th>\n",
              "      <th>pedestre</th>\n",
              "      <th>onibus</th>\n",
              "      <th>caminhao</th>\n",
              "      <th>viatura</th>\n",
              "      <th>outros</th>\n",
              "      <th>vitimas</th>\n",
              "      <th>vitimasfatais</th>\n",
              "      <th>acidente_verificado</th>\n",
              "      <th>tempo_clima</th>\n",
              "      <th>situacao_semaforo</th>\n",
              "      <th>sinalizacao</th>\n",
              "      <th>condicao_via</th>\n",
              "      <th>conservacao_via</th>\n",
              "      <th>ponto_controle</th>\n",
              "      <th>situacao_placa</th>\n",
              "      <th>velocidade_max_via</th>\n",
              "      <th>mao_direcao</th>\n",
              "      <th>divisao_via1</th>\n",
              "      <th>divisao_via2</th>\n",
              "      <th>divisao_via3</th>\n",
              "    </tr>\n",
              "  </thead>\n",
              "  <tbody>\n",
              "    <tr>\n",
              "      <th>0</th>\n",
              "      <td>202200001,0</td>\n",
              "      <td>2022-01-01</td>\n",
              "      <td>NaN</td>\n",
              "      <td>COM VÍTIMA</td>\n",
              "      <td>FINALIZADA</td>\n",
              "      <td>JORDÃO</td>\n",
              "      <td>AV MARIA IRENE</td>\n",
              "      <td>130,0</td>\n",
              "      <td>NaN</td>\n",
              "      <td>NaN</td>\n",
              "      <td>JORDÃO</td>\n",
              "      <td>NaN</td>\n",
              "      <td>SUBURBIO</td>\n",
              "      <td>COLISÃO FRONTAL</td>\n",
              "      <td>1,0</td>\n",
              "      <td>1,0</td>\n",
              "      <td>0,0</td>\n",
              "      <td>0,0</td>\n",
              "      <td>0,0</td>\n",
              "      <td>0,0</td>\n",
              "      <td>0,0</td>\n",
              "      <td>0,0</td>\n",
              "      <td>0,0</td>\n",
              "      <td>1,0</td>\n",
              "      <td>0,0</td>\n",
              "      <td>Longo da via</td>\n",
              "      <td>Bom</td>\n",
              "      <td>Não existe</td>\n",
              "      <td>Não existente</td>\n",
              "      <td>Seca</td>\n",
              "      <td>Perfeito estado</td>\n",
              "      <td>Não existe</td>\n",
              "      <td>Não há placas</td>\n",
              "      <td>NaN</td>\n",
              "      <td>Dupla</td>\n",
              "      <td>Não existe</td>\n",
              "      <td>NaN</td>\n",
              "      <td>NaN</td>\n",
              "    </tr>\n",
              "    <tr>\n",
              "      <th>1</th>\n",
              "      <td>202200007,0</td>\n",
              "      <td>2022-01-01</td>\n",
              "      <td>NaN</td>\n",
              "      <td>SEM VÍTIMA</td>\n",
              "      <td>FINALIZADA</td>\n",
              "      <td>IMBIRIBEIRA</td>\n",
              "      <td>AV MARECHAL MASCARENHAS DE MORAES</td>\n",
              "      <td>NaN</td>\n",
              "      <td>NaN</td>\n",
              "      <td>LADO OPOSTO AO NÚMERO 4728</td>\n",
              "      <td>IMBIRIBEIRA</td>\n",
              "      <td>471,0</td>\n",
              "      <td>CIDADE</td>\n",
              "      <td>COLISÃO TRASEIRA</td>\n",
              "      <td>2,0</td>\n",
              "      <td>0,0</td>\n",
              "      <td>0,0</td>\n",
              "      <td>0,0</td>\n",
              "      <td>0,0</td>\n",
              "      <td>0,0</td>\n",
              "      <td>0,0</td>\n",
              "      <td>0,0</td>\n",
              "      <td>0,0</td>\n",
              "      <td>0,0</td>\n",
              "      <td>0,0</td>\n",
              "      <td>Longo da via</td>\n",
              "      <td>Bom</td>\n",
              "      <td>Sem defeito</td>\n",
              "      <td>Perfeito estado</td>\n",
              "      <td>Seca</td>\n",
              "      <td>Perfeito estado</td>\n",
              "      <td>Faixa de pedestre</td>\n",
              "      <td>Não há placas</td>\n",
              "      <td>NaN</td>\n",
              "      <td>Dupla</td>\n",
              "      <td>Canteiro central</td>\n",
              "      <td>NaN</td>\n",
              "      <td>NaN</td>\n",
              "    </tr>\n",
              "  </tbody>\n",
              "</table>\n",
              "</div>"
            ],
            "text/plain": [
              "     Protocolo        data  hora    natureza    situacao       bairro  \\\n",
              "0  202200001,0  2022-01-01   NaN  COM VÍTIMA  FINALIZADA       JORDÃO   \n",
              "1  202200007,0  2022-01-01   NaN  SEM VÍTIMA  FINALIZADA  IMBIRIBEIRA   \n",
              "\n",
              "                            endereco numero detalhe_endereco_acidente  \\\n",
              "0                     AV MARIA IRENE  130,0                       NaN   \n",
              "1  AV MARECHAL MASCARENHAS DE MORAES    NaN                       NaN   \n",
              "\n",
              "                  complemento bairro_cruzamento num_semaforo sentido_via  \\\n",
              "0                         NaN            JORDÃO          NaN    SUBURBIO   \n",
              "1  LADO OPOSTO AO NÚMERO 4728       IMBIRIBEIRA        471,0      CIDADE   \n",
              "\n",
              "               tipo auto moto ciclom ciclista pedestre onibus caminhao  \\\n",
              "0   COLISÃO FRONTAL  1,0  1,0    0,0      0,0      0,0    0,0      0,0   \n",
              "1  COLISÃO TRASEIRA  2,0  0,0    0,0      0,0      0,0    0,0      0,0   \n",
              "\n",
              "  viatura outros vitimas vitimasfatais acidente_verificado tempo_clima  \\\n",
              "0     0,0    0,0     1,0           0,0        Longo da via         Bom   \n",
              "1     0,0    0,0     0,0           0,0        Longo da via         Bom   \n",
              "\n",
              "  situacao_semaforo      sinalizacao condicao_via  conservacao_via  \\\n",
              "0        Não existe    Não existente         Seca  Perfeito estado   \n",
              "1       Sem defeito  Perfeito estado         Seca  Perfeito estado   \n",
              "\n",
              "      ponto_controle situacao_placa velocidade_max_via mao_direcao  \\\n",
              "0         Não existe  Não há placas                NaN       Dupla   \n",
              "1  Faixa de pedestre  Não há placas                NaN       Dupla   \n",
              "\n",
              "       divisao_via1 divisao_via2 divisao_via3  \n",
              "0        Não existe          NaN          NaN  \n",
              "1  Canteiro central          NaN          NaN  "
            ]
          },
          "execution_count": 8,
          "metadata": {},
          "output_type": "execute_result"
        }
      ],
      "source": [
        "df.head(2)"
      ]
    },
    {
      "cell_type": "code",
      "execution_count": 9,
      "metadata": {
        "colab": {
          "base_uri": "https://localhost:8080/"
        },
        "id": "QQZR5dIdgfGJ",
        "outputId": "be327a3f-188b-4c41-e9fd-b50aae590b9b"
      },
      "outputs": [
        {
          "data": {
            "text/plain": [
              "Protocolo                     object\n",
              "data                          object\n",
              "hora                         float64\n",
              "natureza                      object\n",
              "situacao                      object\n",
              "bairro                        object\n",
              "endereco                      object\n",
              "numero                        object\n",
              "detalhe_endereco_acidente     object\n",
              "complemento                   object\n",
              "bairro_cruzamento             object\n",
              "num_semaforo                  object\n",
              "sentido_via                   object\n",
              "tipo                          object\n",
              "auto                          object\n",
              "moto                          object\n",
              "ciclom                        object\n",
              "ciclista                      object\n",
              "pedestre                      object\n",
              "onibus                        object\n",
              "caminhao                      object\n",
              "viatura                       object\n",
              "outros                        object\n",
              "vitimas                       object\n",
              "vitimasfatais                 object\n",
              "acidente_verificado           object\n",
              "tempo_clima                   object\n",
              "situacao_semaforo             object\n",
              "sinalizacao                   object\n",
              "condicao_via                  object\n",
              "conservacao_via               object\n",
              "ponto_controle                object\n",
              "situacao_placa                object\n",
              "velocidade_max_via            object\n",
              "mao_direcao                   object\n",
              "divisao_via1                  object\n",
              "divisao_via2                  object\n",
              "divisao_via3                  object\n",
              "dtype: object"
            ]
          },
          "execution_count": 9,
          "metadata": {},
          "output_type": "execute_result"
        }
      ],
      "source": [
        "df.dtypes"
      ]
    },
    {
      "cell_type": "code",
      "execution_count": 10,
      "metadata": {
        "colab": {
          "base_uri": "https://localhost:8080/"
        },
        "id": "TBdJRuEKg_d3",
        "outputId": "306c3568-5a91-4760-8c86-71f3f0ae1974"
      },
      "outputs": [
        {
          "name": "stdout",
          "output_type": "stream",
          "text": [
            "<class 'pandas.core.frame.DataFrame'>\n",
            "RangeIndex: 2669 entries, 0 to 2668\n",
            "Data columns (total 38 columns):\n",
            " #   Column                     Non-Null Count  Dtype  \n",
            "---  ------                     --------------  -----  \n",
            " 0   Protocolo                  2669 non-null   object \n",
            " 1   data                       2669 non-null   object \n",
            " 2   hora                       0 non-null      float64\n",
            " 3   natureza                   2669 non-null   object \n",
            " 4   situacao                   2669 non-null   object \n",
            " 5   bairro                     2659 non-null   object \n",
            " 6   endereco                   2663 non-null   object \n",
            " 7   numero                     1501 non-null   object \n",
            " 8   detalhe_endereco_acidente  1013 non-null   object \n",
            " 9   complemento                2514 non-null   object \n",
            " 10  bairro_cruzamento          2659 non-null   object \n",
            " 11  num_semaforo               631 non-null    object \n",
            " 12  sentido_via                1552 non-null   object \n",
            " 13  tipo                       2563 non-null   object \n",
            " 14  auto                       2669 non-null   object \n",
            " 15  moto                       2669 non-null   object \n",
            " 16  ciclom                     2669 non-null   object \n",
            " 17  ciclista                   2669 non-null   object \n",
            " 18  pedestre                   2669 non-null   object \n",
            " 19  onibus                     2669 non-null   object \n",
            " 20  caminhao                   2669 non-null   object \n",
            " 21  viatura                    2669 non-null   object \n",
            " 22  outros                     2669 non-null   object \n",
            " 23  vitimas                    2669 non-null   object \n",
            " 24  vitimasfatais              2669 non-null   object \n",
            " 25  acidente_verificado        2092 non-null   object \n",
            " 26  tempo_clima                2111 non-null   object \n",
            " 27  situacao_semaforo          2090 non-null   object \n",
            " 28  sinalizacao                2079 non-null   object \n",
            " 29  condicao_via               2103 non-null   object \n",
            " 30  conservacao_via            2088 non-null   object \n",
            " 31  ponto_controle             2002 non-null   object \n",
            " 32  situacao_placa             1979 non-null   object \n",
            " 33  velocidade_max_via         767 non-null    object \n",
            " 34  mao_direcao                2059 non-null   object \n",
            " 35  divisao_via1               2026 non-null   object \n",
            " 36  divisao_via2               210 non-null    object \n",
            " 37  divisao_via3               31 non-null     object \n",
            "dtypes: float64(1), object(37)\n",
            "memory usage: 792.5+ KB\n"
          ]
        }
      ],
      "source": [
        "df.info()"
      ]
    },
    {
      "cell_type": "code",
      "execution_count": 11,
      "metadata": {
        "colab": {
          "base_uri": "https://localhost:8080/",
          "height": 469
        },
        "id": "NqAF05n7hZgF",
        "outputId": "effff5c4-03f2-4e51-d80d-e3c69cdbb835"
      },
      "outputs": [
        {
          "data": {
            "text/html": [
              "<div>\n",
              "<style scoped>\n",
              "    .dataframe tbody tr th:only-of-type {\n",
              "        vertical-align: middle;\n",
              "    }\n",
              "\n",
              "    .dataframe tbody tr th {\n",
              "        vertical-align: top;\n",
              "    }\n",
              "\n",
              "    .dataframe thead th {\n",
              "        text-align: right;\n",
              "    }\n",
              "</style>\n",
              "<table border=\"1\" class=\"dataframe\">\n",
              "  <thead>\n",
              "    <tr style=\"text-align: right;\">\n",
              "      <th></th>\n",
              "      <th>Protocolo</th>\n",
              "      <th>data</th>\n",
              "      <th>hora</th>\n",
              "      <th>natureza</th>\n",
              "      <th>situacao</th>\n",
              "      <th>bairro</th>\n",
              "      <th>endereco</th>\n",
              "      <th>numero</th>\n",
              "      <th>detalhe_endereco_acidente</th>\n",
              "      <th>complemento</th>\n",
              "      <th>bairro_cruzamento</th>\n",
              "      <th>num_semaforo</th>\n",
              "      <th>sentido_via</th>\n",
              "      <th>tipo</th>\n",
              "      <th>auto</th>\n",
              "      <th>moto</th>\n",
              "      <th>ciclom</th>\n",
              "      <th>ciclista</th>\n",
              "      <th>pedestre</th>\n",
              "      <th>onibus</th>\n",
              "      <th>caminhao</th>\n",
              "      <th>viatura</th>\n",
              "      <th>outros</th>\n",
              "      <th>vitimas</th>\n",
              "      <th>vitimasfatais</th>\n",
              "      <th>acidente_verificado</th>\n",
              "      <th>tempo_clima</th>\n",
              "      <th>situacao_semaforo</th>\n",
              "      <th>sinalizacao</th>\n",
              "      <th>condicao_via</th>\n",
              "      <th>conservacao_via</th>\n",
              "      <th>ponto_controle</th>\n",
              "      <th>situacao_placa</th>\n",
              "      <th>velocidade_max_via</th>\n",
              "      <th>mao_direcao</th>\n",
              "      <th>divisao_via1</th>\n",
              "      <th>divisao_via2</th>\n",
              "      <th>divisao_via3</th>\n",
              "    </tr>\n",
              "  </thead>\n",
              "  <tbody>\n",
              "    <tr>\n",
              "      <th>1233</th>\n",
              "      <td>202215403,0</td>\n",
              "      <td>2022-07-06</td>\n",
              "      <td>NaN</td>\n",
              "      <td>COM VÍTIMA</td>\n",
              "      <td>FINALIZADA</td>\n",
              "      <td>SANTO AMARO</td>\n",
              "      <td>AV GOVERNADOR AGAMENON MAGALHAES</td>\n",
              "      <td>NaN</td>\n",
              "      <td>AV DR JAYME DA FONTE</td>\n",
              "      <td>NO SEMAFORO 049</td>\n",
              "      <td>SANTO AMARO</td>\n",
              "      <td>49,0</td>\n",
              "      <td>SUBURBIO</td>\n",
              "      <td>COLISÃO TRASEIRA</td>\n",
              "      <td>1,0</td>\n",
              "      <td>1,0</td>\n",
              "      <td>0,0</td>\n",
              "      <td>0,0</td>\n",
              "      <td>0,0</td>\n",
              "      <td>0,0</td>\n",
              "      <td>0,0</td>\n",
              "      <td>0,0</td>\n",
              "      <td>0,0</td>\n",
              "      <td>1,0</td>\n",
              "      <td>0,0</td>\n",
              "      <td>Cruzamento</td>\n",
              "      <td>Bom</td>\n",
              "      <td>Sem defeito</td>\n",
              "      <td>Perfeito estado</td>\n",
              "      <td>Seca</td>\n",
              "      <td>Perfeito estado</td>\n",
              "      <td>Faixa de pedestre</td>\n",
              "      <td>Não há placas</td>\n",
              "      <td>60 km/h</td>\n",
              "      <td>Dupla</td>\n",
              "      <td>Faixa seccionada</td>\n",
              "      <td>NaN</td>\n",
              "      <td>NaN</td>\n",
              "    </tr>\n",
              "    <tr>\n",
              "      <th>1068</th>\n",
              "      <td>202213531,0</td>\n",
              "      <td>2022-06-13</td>\n",
              "      <td>NaN</td>\n",
              "      <td>COM VÍTIMA</td>\n",
              "      <td>CANCELADA</td>\n",
              "      <td>IPSEP</td>\n",
              "      <td>AV RAIMUNDO DINIZ</td>\n",
              "      <td>NaN</td>\n",
              "      <td>AV RECIFE</td>\n",
              "      <td>PROXIMIDADES DO SEMÁFORO Nº 247</td>\n",
              "      <td>IPSEP</td>\n",
              "      <td>247,0</td>\n",
              "      <td>SUBURBIO</td>\n",
              "      <td>COLISÃO TRASEIRA</td>\n",
              "      <td>0,0</td>\n",
              "      <td>0,0</td>\n",
              "      <td>0,0</td>\n",
              "      <td>0,0</td>\n",
              "      <td>0,0</td>\n",
              "      <td>0,0</td>\n",
              "      <td>0,0</td>\n",
              "      <td>0,0</td>\n",
              "      <td>0,0</td>\n",
              "      <td>1,0</td>\n",
              "      <td>0,0</td>\n",
              "      <td>NaN</td>\n",
              "      <td>NaN</td>\n",
              "      <td>NaN</td>\n",
              "      <td>NaN</td>\n",
              "      <td>NaN</td>\n",
              "      <td>NaN</td>\n",
              "      <td>NaN</td>\n",
              "      <td>NaN</td>\n",
              "      <td>NaN</td>\n",
              "      <td>NaN</td>\n",
              "      <td>NaN</td>\n",
              "      <td>NaN</td>\n",
              "      <td>NaN</td>\n",
              "    </tr>\n",
              "    <tr>\n",
              "      <th>1762</th>\n",
              "      <td>202221559,0</td>\n",
              "      <td>2022-09-12</td>\n",
              "      <td>NaN</td>\n",
              "      <td>COM VÍTIMA</td>\n",
              "      <td>FINALIZADA</td>\n",
              "      <td>CAMPO GRANDE</td>\n",
              "      <td>RUA JERONIMO VILELA</td>\n",
              "      <td>NaN</td>\n",
              "      <td>RUA DR MACHADO</td>\n",
              "      <td>CRUZAMENTO</td>\n",
              "      <td>CAMPO GRANDE</td>\n",
              "      <td>565,0</td>\n",
              "      <td>SUBURBIO</td>\n",
              "      <td>COLISÃO LATERAL</td>\n",
              "      <td>1,0</td>\n",
              "      <td>1,0</td>\n",
              "      <td>0,0</td>\n",
              "      <td>0,0</td>\n",
              "      <td>0,0</td>\n",
              "      <td>0,0</td>\n",
              "      <td>0,0</td>\n",
              "      <td>0,0</td>\n",
              "      <td>0,0</td>\n",
              "      <td>1,0</td>\n",
              "      <td>0,0</td>\n",
              "      <td>Cruzamento</td>\n",
              "      <td>Bom</td>\n",
              "      <td>Sem defeito</td>\n",
              "      <td>Perfeito estado</td>\n",
              "      <td>Seca</td>\n",
              "      <td>Perfeito estado</td>\n",
              "      <td>Faixa de pedestre</td>\n",
              "      <td>Outras</td>\n",
              "      <td>30 km/h</td>\n",
              "      <td>Dupla</td>\n",
              "      <td>Faixa seccionada</td>\n",
              "      <td>NaN</td>\n",
              "      <td>NaN</td>\n",
              "    </tr>\n",
              "    <tr>\n",
              "      <th>2099</th>\n",
              "      <td>202225229,0</td>\n",
              "      <td>2022-10-24</td>\n",
              "      <td>NaN</td>\n",
              "      <td>SEM VÍTIMA</td>\n",
              "      <td>FINALIZADA</td>\n",
              "      <td>MACAXEIRA</td>\n",
              "      <td>AV NORTE MIGUEL ARRAES DE ALENCAR</td>\n",
              "      <td>NaN</td>\n",
              "      <td>RUA MARIA CANDIDA</td>\n",
              "      <td>NaN</td>\n",
              "      <td>MACAXEIRA</td>\n",
              "      <td>296,0</td>\n",
              "      <td>SUBURBIO</td>\n",
              "      <td>COLISÃO TRASEIRA</td>\n",
              "      <td>1,0</td>\n",
              "      <td>0,0</td>\n",
              "      <td>0,0</td>\n",
              "      <td>0,0</td>\n",
              "      <td>0,0</td>\n",
              "      <td>0,0</td>\n",
              "      <td>1,0</td>\n",
              "      <td>1,0</td>\n",
              "      <td>0,0</td>\n",
              "      <td>0,0</td>\n",
              "      <td>0,0</td>\n",
              "      <td>Cruzamento</td>\n",
              "      <td>Bom</td>\n",
              "      <td>Sem defeito</td>\n",
              "      <td>Perfeito estado</td>\n",
              "      <td>Seca</td>\n",
              "      <td>Perfeito estado</td>\n",
              "      <td>Não existe</td>\n",
              "      <td>R-6a</td>\n",
              "      <td>NaN</td>\n",
              "      <td>Dupla</td>\n",
              "      <td>Canteiro central</td>\n",
              "      <td>NaN</td>\n",
              "      <td>NaN</td>\n",
              "    </tr>\n",
              "    <tr>\n",
              "      <th>167</th>\n",
              "      <td>202201635,0</td>\n",
              "      <td>2022-01-25</td>\n",
              "      <td>NaN</td>\n",
              "      <td>COM VÍTIMA</td>\n",
              "      <td>CANCELADA</td>\n",
              "      <td>BOA VIAGEM</td>\n",
              "      <td>RUA DR GASPAR REGUEIRA COSTA</td>\n",
              "      <td>57,0</td>\n",
              "      <td>RUA DOM JOSE LOPES</td>\n",
              "      <td>EM FRENTE AO SAN BOTEQUIM</td>\n",
              "      <td>BOA VIAGEM</td>\n",
              "      <td>NaN</td>\n",
              "      <td>NaN</td>\n",
              "      <td>COLISÃO LATERAL</td>\n",
              "      <td>1,0</td>\n",
              "      <td>1,0</td>\n",
              "      <td>0,0</td>\n",
              "      <td>0,0</td>\n",
              "      <td>0,0</td>\n",
              "      <td>0,0</td>\n",
              "      <td>0,0</td>\n",
              "      <td>0,0</td>\n",
              "      <td>0,0</td>\n",
              "      <td>1,0</td>\n",
              "      <td>0,0</td>\n",
              "      <td>NaN</td>\n",
              "      <td>NaN</td>\n",
              "      <td>NaN</td>\n",
              "      <td>NaN</td>\n",
              "      <td>NaN</td>\n",
              "      <td>NaN</td>\n",
              "      <td>NaN</td>\n",
              "      <td>NaN</td>\n",
              "      <td>NaN</td>\n",
              "      <td>NaN</td>\n",
              "      <td>NaN</td>\n",
              "      <td>NaN</td>\n",
              "      <td>NaN</td>\n",
              "    </tr>\n",
              "  </tbody>\n",
              "</table>\n",
              "</div>"
            ],
            "text/plain": [
              "        Protocolo        data  hora    natureza    situacao        bairro  \\\n",
              "1233  202215403,0  2022-07-06   NaN  COM VÍTIMA  FINALIZADA   SANTO AMARO   \n",
              "1068  202213531,0  2022-06-13   NaN  COM VÍTIMA   CANCELADA         IPSEP   \n",
              "1762  202221559,0  2022-09-12   NaN  COM VÍTIMA  FINALIZADA  CAMPO GRANDE   \n",
              "2099  202225229,0  2022-10-24   NaN  SEM VÍTIMA  FINALIZADA     MACAXEIRA   \n",
              "167   202201635,0  2022-01-25   NaN  COM VÍTIMA   CANCELADA    BOA VIAGEM   \n",
              "\n",
              "                               endereco numero detalhe_endereco_acidente  \\\n",
              "1233   AV GOVERNADOR AGAMENON MAGALHAES    NaN      AV DR JAYME DA FONTE   \n",
              "1068                  AV RAIMUNDO DINIZ    NaN                 AV RECIFE   \n",
              "1762                RUA JERONIMO VILELA    NaN            RUA DR MACHADO   \n",
              "2099  AV NORTE MIGUEL ARRAES DE ALENCAR    NaN         RUA MARIA CANDIDA   \n",
              "167        RUA DR GASPAR REGUEIRA COSTA   57,0        RUA DOM JOSE LOPES   \n",
              "\n",
              "                          complemento bairro_cruzamento num_semaforo  \\\n",
              "1233                  NO SEMAFORO 049       SANTO AMARO         49,0   \n",
              "1068  PROXIMIDADES DO SEMÁFORO Nº 247             IPSEP        247,0   \n",
              "1762                       CRUZAMENTO      CAMPO GRANDE        565,0   \n",
              "2099                              NaN         MACAXEIRA        296,0   \n",
              "167         EM FRENTE AO SAN BOTEQUIM        BOA VIAGEM          NaN   \n",
              "\n",
              "     sentido_via              tipo auto moto ciclom ciclista pedestre onibus  \\\n",
              "1233    SUBURBIO  COLISÃO TRASEIRA  1,0  1,0    0,0      0,0      0,0    0,0   \n",
              "1068    SUBURBIO  COLISÃO TRASEIRA  0,0  0,0    0,0      0,0      0,0    0,0   \n",
              "1762    SUBURBIO   COLISÃO LATERAL  1,0  1,0    0,0      0,0      0,0    0,0   \n",
              "2099    SUBURBIO  COLISÃO TRASEIRA  1,0  0,0    0,0      0,0      0,0    0,0   \n",
              "167          NaN   COLISÃO LATERAL  1,0  1,0    0,0      0,0      0,0    0,0   \n",
              "\n",
              "     caminhao viatura outros vitimas vitimasfatais acidente_verificado  \\\n",
              "1233      0,0     0,0    0,0     1,0           0,0          Cruzamento   \n",
              "1068      0,0     0,0    0,0     1,0           0,0                 NaN   \n",
              "1762      0,0     0,0    0,0     1,0           0,0          Cruzamento   \n",
              "2099      1,0     1,0    0,0     0,0           0,0          Cruzamento   \n",
              "167       0,0     0,0    0,0     1,0           0,0                 NaN   \n",
              "\n",
              "     tempo_clima situacao_semaforo      sinalizacao condicao_via  \\\n",
              "1233         Bom       Sem defeito  Perfeito estado         Seca   \n",
              "1068         NaN               NaN              NaN          NaN   \n",
              "1762         Bom       Sem defeito  Perfeito estado         Seca   \n",
              "2099         Bom       Sem defeito  Perfeito estado         Seca   \n",
              "167          NaN               NaN              NaN          NaN   \n",
              "\n",
              "      conservacao_via     ponto_controle situacao_placa velocidade_max_via  \\\n",
              "1233  Perfeito estado  Faixa de pedestre  Não há placas            60 km/h   \n",
              "1068              NaN                NaN            NaN                NaN   \n",
              "1762  Perfeito estado  Faixa de pedestre         Outras            30 km/h   \n",
              "2099  Perfeito estado         Não existe           R-6a                NaN   \n",
              "167               NaN                NaN            NaN                NaN   \n",
              "\n",
              "     mao_direcao      divisao_via1 divisao_via2 divisao_via3  \n",
              "1233       Dupla  Faixa seccionada          NaN          NaN  \n",
              "1068         NaN               NaN          NaN          NaN  \n",
              "1762       Dupla  Faixa seccionada          NaN          NaN  \n",
              "2099       Dupla  Canteiro central          NaN          NaN  \n",
              "167          NaN               NaN          NaN          NaN  "
            ]
          },
          "execution_count": 11,
          "metadata": {},
          "output_type": "execute_result"
        }
      ],
      "source": [
        "df.sample(5)"
      ]
    },
    {
      "cell_type": "code",
      "execution_count": 12,
      "metadata": {
        "id": "MZIRwV_MiAup"
      },
      "outputs": [],
      "source": [
        "#df[\"vitimasfatais\"] = df[\"vitimasfatais\"].str.replace(\",\", \".\").astype(float)\n",
        "df[\"vitimas\"] = df[\"vitimas\"].str.replace(\",\", \".\").astype(float)"
      ]
    },
    {
      "cell_type": "code",
      "execution_count": 13,
      "metadata": {
        "colab": {
          "base_uri": "https://localhost:8080/"
        },
        "id": "gf8JwgvwiuTp",
        "outputId": "1d0de2d0-8ea2-4c41-ce3a-a1c318ba9345"
      },
      "outputs": [
        {
          "data": {
            "text/plain": [
              "'0,00,00,00,00,00,00,00,00,00,00,00,00,00,00,00,00,00,00,00,00,00,00,00,00,00,00,00,00,00,00,00,00,00,00,00,00,00,00,00,00,00,00,00,00,00,00,00,00,00,00,00,00,00,00,00,00,00,00,00,00,00,00,00,00,00,00,00,00,00,00,00,00,00,00,00,00,00,00,00,00,00,00,00,00,01,00,00,00,00,00,00,00,00,00,00,00,00,00,00,01,00,00,00,00,00,00,00,00,00,00,00,00,00,00,00,00,00,00,00,00,00,00,00,00,00,00,00,00,00,00,00,00,00,00,00,00,00,00,00,00,00,00,00,00,00,00,00,00,00,00,00,00,00,00,00,00,00,00,00,00,00,00,00,00,00,00,00,00,00,00,00,00,00,00,00,00,00,00,00,00,00,00,00,00,00,00,00,00,00,00,00,00,00,00,00,00,00,00,00,00,00,00,01,00,00,00,00,00,00,00,00,00,00,00,00,00,00,00,00,00,00,00,00,00,00,00,00,00,00,00,00,00,00,00,00,00,00,00,00,00,00,00,00,00,00,00,00,00,00,00,00,00,00,00,00,00,00,00,00,00,00,00,00,00,00,00,00,00,00,00,00,00,00,00,00,00,00,00,00,00,00,00,00,00,00,00,00,00,00,00,00,00,00,00,00,00,00,00,00,00,00,00,00,00,00,00,00,00,00,00,00,00,00,00,00,00,00,00,00,00,00,00,00,00,00,00,00,00,00,00,00,00,00,00,00,00,00,00,00,00,00,00,00,00,00,00,00,01,00,00,00,00,00,00,00,00,00,01,00,00,00,00,00,00,00,00,00,00,00,00,00,00,00,00,01,00,00,00,00,00,00,00,00,00,00,00,00,00,00,00,00,00,00,00,00,00,00,00,00,00,00,00,00,00,00,00,00,00,00,00,00,00,00,00,00,00,00,00,00,00,00,00,00,00,00,00,00,00,00,00,00,00,00,00,00,00,00,00,00,00,00,00,00,00,00,00,00,00,00,00,00,00,00,00,00,00,00,00,00,00,00,00,00,00,00,00,00,00,00,01,00,00,00,00,00,00,00,00,00,00,00,00,00,00,00,00,00,00,00,00,00,00,00,00,00,00,00,00,00,00,00,00,00,00,00,00,00,00,00,00,00,00,00,00,00,00,00,00,00,00,00,00,00,00,00,00,00,00,00,00,00,00,00,00,00,00,00,00,00,00,00,00,00,00,00,00,00,00,00,00,00,00,00,00,00,00,00,00,00,00,00,00,00,00,00,00,00,00,00,00,00,00,00,00,00,00,00,00,00,00,00,00,00,00,00,00,00,00,00,00,00,00,00,00,00,00,00,00,00,00,00,00,00,00,00,00,00,00,00,00,00,01,00,00,00,00,00,00,00,00,00,00,00,00,00,00,00,00,00,00,00,00,00,00,00,00,00,00,00,00,00,00,00,00,00,00,00,00,01,00,00,00,00,00,00,00,00,00,00,00,00,00,00,00,00,00,00,00,00,00,00,00,00,00,00,00,00,00,00,00,00,00,00,00,00,00,00,00,00,00,00,00,00,00,00,00,00,00,00,00,00,00,00,00,00,00,00,00,00,00,00,00,00,00,00,00,00,00,00,00,00,00,00,00,01,00,00,00,00,00,00,00,00,00,00,00,01,00,00,00,00,00,00,00,00,00,00,00,00,00,00,00,00,00,00,00,00,00,00,00,00,00,00,00,00,00,00,00,00,00,00,00,00,00,00,00,00,00,00,00,00,00,00,00,00,00,00,00,00,00,00,00,00,00,00,00,00,00,00,00,00,00,00,00,00,00,00,00,00,00,00,00,00,00,00,00,00,00,00,00,00,00,00,00,00,00,00,00,00,00,00,00,00,00,00,00,00,00,00,00,00,00,00,00,00,00,00,00,00,00,00,00,00,00,00,00,00,00,00,00,00,00,00,00,00,00,00,00,00,00,00,00,00,00,00,00,00,00,01,00,00,00,00,00,00,00,00,00,00,00,00,00,00,00,00,00,00,00,00,00,00,00,00,00,00,00,00,00,00,00,00,00,00,00,00,00,00,00,00,00,00,00,00,00,00,00,00,00,00,00,00,00,00,00,00,00,00,00,00,00,00,00,00,00,00,00,00,00,00,00,00,00,00,00,00,00,00,00,00,00,00,00,00,00,00,00,00,00,00,00,00,00,00,00,00,00,00,00,00,00,00,00,00,00,00,00,00,00,00,00,00,00,00,00,00,00,00,00,00,00,00,00,00,00,00,00,00,00,00,00,00,00,00,00,00,00,00,00,00,00,00,00,00,00,00,00,00,00,00,00,00,00,00,00,00,00,00,00,00,00,00,00,00,00,00,00,00,00,00,00,00,00,00,00,00,00,00,00,00,00,00,00,00,00,00,00,00,00,00,00,00,00,00,00,00,00,00,00,00,00,00,00,00,00,00,00,00,00,00,00,00,00,00,00,00,00,00,00,00,00,00,00,00,00,00,00,00,00,00,00,00,00,00,00,00,00,00,00,00,00,00,00,00,00,00,00,00,00,00,00,00,00,00,00,00,00,00,00,00,00,00,00,00,00,00,00,00,00,00,00,00,00,00,00,00,00,00,00,00,00,00,00,00,00,00,00,00,00,00,01,00,00,00,00,00,00,00,00,00,00,00,00,00,00,00,00,00,00,00,00,01,00,00,00,00,00,00,00,00,00,00,00,00,00,00,00,00,00,00,00,00,00,00,00,00,00,00,00,00,01,00,00,00,00,00,00,00,00,00,00,00,00,00,00,00,00,00,00,00,00,00,00,00,00,00,00,00,00,00,00,00,00,00,00,00,00,00,00,00,00,00,00,00,00,00,00,00,00,00,00,00,00,00,00,00,00,00,00,00,00,00,00,00,00,00,00,00,00,00,00,00,00,00,00,00,00,00,00,00,00,00,00,00,00,00,00,00,00,00,00,00,00,00,00,00,00,00,00,00,00,00,00,01,00,00,00,00,00,00,00,00,00,00,00,00,00,00,00,00,00,00,00,00,00,00,00,00,00,00,00,00,00,00,00,00,00,00,00,00,00,00,00,00,00,00,00,00,00,00,00,00,00,00,00,00,00,00,00,00,00,00,00,00,00,00,00,00,00,00,00,00,00,00,00,00,00,00,00,00,00,00,00,00,00,00,00,00,00,00,00,00,00,00,00,00,00,00,00,00,00,00,00,00,00,00,00,00,00,00,00,00,00,00,00,00,00,00,00,00,00,00,00,00,00,00,00,00,00,00,00,00,00,00,00,00,00,00,00,00,00,00,00,00,00,00,00,00,00,00,00,00,00,00,00,00,00,00,00,00,00,00,00,00,00,00,00,00,00,00,00,00,00,00,00,00,00,00,00,00,00,00,00,00,00,00,00,00,00,00,00,00,00,00,00,00,00,00,00,00,00,00,00,00,00,00,00,00,00,00,00,00,00,00,00,00,00,00,00,00,00,00,00,00,00,00,00,00,00,00,00,00,00,00,00,00,00,00,00,00,00,00,00,00,00,00,00,00,00,00,00,00,00,00,00,00,00,00,00,00,00,00,00,00,00,00,00,00,00,00,00,00,00,00,00,00,00,00,00,00,00,00,00,00,00,00,00,00,00,00,00,00,00,00,00,00,00,00,00,00,00,00,00,00,00,00,00,00,00,00,00,00,00,00,00,00,00,00,00,00,00,00,00,00,00,00,00,00,00,00,00,00,00,00,00,00,00,00,00,00,00,00,00,00,00,00,00,00,00,00,00,00,00,00,00,00,00,00,00,00,00,00,00,00,00,00,00,00,00,00,00,00,00,00,00,00,00,00,00,00,00,00,00,00,00,00,00,00,00,00,00,00,00,00,00,00,00,00,00,00,00,00,00,00,00,00,00,00,00,00,00,00,00,00,00,00,00,00,00,00,00,00,00,00,00,00,00,00,00,00,00,00,00,00,00,00,00,00,00,00,00,00,00,00,00,00,00,00,00,00,00,00,00,00,00,00,00,00,00,00,00,00,00,00,00,00,00,00,00,00,00,00,00,00,00,00,00,00,00,00,00,00,00,00,00,00,00,00,00,00,00,00,00,00,00,00,00,00,00,00,00,00,00,00,00,00,00,00,00,00,00,00,00,00,00,00,00,00,00,00,00,00,00,00,00,00,00,00,00,00,00,00,00,00,00,00,00,00,00,00,00,00,00,00,00,00,00,00,00,00,00,00,00,00,00,00,00,00,00,00,00,00,00,00,00,00,00,00,00,00,00,00,00,00,00,00,00,00,00,00,00,00,00,00,00,00,00,00,00,00,00,00,00,00,00,00,00,00,00,00,00,00,00,00,00,00,00,00,00,00,00,00,00,00,00,00,00,00,00,00,00,00,00,00,00,00,00,00,00,00,00,00,00,00,00,00,00,00,00,00,00,00,00,00,00,00,00,00,00,00,00,00,00,00,00,00,00,00,00,01,00,00,00,00,00,00,00,00,00,00,00,00,00,00,00,00,00,00,00,00,00,00,00,00,00,00,00,00,00,00,00,00,00,00,00,00,00,00,00,00,00,00,00,00,00,00,00,00,00,00,00,00,00,00,00,00,00,00,00,00,00,00,00,00,00,00,00,00,00,00,00,00,00,00,00,00,00,00,00,00,00,00,00,00,00,00,00,00,00,00,00,00,00,00,00,00,00,00,00,00,00,00,00,00,00,00,00,00,00,00,00,00,00,00,00,00,00,00,00,00,00,00,00,00,00,00,00,00,00,00,00,00,00,00,00,00,00,00,00,00,00,00,00,00,00,00,00,00,00,00,00,00,00,00,00,00,00,00,00,00,00,00,00,00,00,00,00,00,00,00,00,00,00,00,00,00,00,00,00,00,00,00,00,00,00,00,00,00,00,00,00,00,00,00,00,00,00,00,00,00,00,00,00,00,00,00,00,00,00,00,00,00,00,00,00,00,00,00,00,00,00,00,00,01,00,00,00,00,00,00,00,00,00,00,00,00,00,00,00,00,00,00,00,00,00,00,00,00,00,00,00,00,00,00,00,00,00,00,00,00,00,00,00,00,00,00,00,00,00,00,00,00,00,00,00,00,00,00,00,00,00,00,00,00,00,00,00,00,00,00,00,00,00,00,00,00,00,00,00,00,00,00,00,00,00,00,00,00,00,00,00,00,00,00,00,00,00,00,00,00,00,00,00,00,00,00,00,00,00,00,00,00,00,00,00,00,00,00,00,00,00,00,00,00,00,00,00,00,00,00,00,00,00,00,00,00,00,00,00,00,00,00,00,00,00,00,00,00,00,00,00,00,00,01,00,00,00,00,00,00,00,00,00,00,00,00,00,00,00,00,00,00,00,00,00,00,00,00,00,00,00,00,00,00,00,00,00,00,00,00,00,00,00,00,00,00,00,00,00,00,00,00,00,00,00,00,00,00,00,00,00,00,00,00,00,00,00,00,00,00,00,00,00,00,00,00,00,00,00,00,00,00,00,00,00,00,00,00,00,00,00,00,00,01,00,00,00,00,00,00,00,00,00,00,00,00,00,00,00,00,00,00,00,00,00,00,00,00,00,00,00,00,00,00,00,00,00,00,00,00,00,00,00,00,00,00,04,00,00,00,00,00,00,00,00,00,00,00,00,00,00,00,00,00,00,00,00,00,00,00,00,01,00,00,00,00,00,00,00,00,00,00,00,00,00,00,00,00,00,00,00,00,00,00,00,00,00,00,00,00,00,00,00,00,00,00,00,00,00,00,00,00,00,00,00,00,00,00,00,00,00,00,00,00,00,00,00,00,00,00,00,00,00,00,00,00,00,00,00,00,00,00,00,00,00,00,00,00,00,00,00,00,00,00,00,00,00,00,00,00,00,00,00,00,00,00,00,00,00,00,00,00,00,00,00,00,00,00,00,00,00,00,00,00,00,00,00,00,00,00,00,00,00,00,00,00,00,00,00,00,00,00,00,00,00,00,00,00,00,00,00,00,00,00,00,00,00,00,00,00,00,00,00,00,00,00,00,00,00,0'"
            ]
          },
          "execution_count": 13,
          "metadata": {},
          "output_type": "execute_result"
        }
      ],
      "source": [
        "df[\"vitimasfatais\"].sum()"
      ]
    },
    {
      "cell_type": "code",
      "execution_count": 14,
      "metadata": {
        "colab": {
          "base_uri": "https://localhost:8080/"
        },
        "id": "QZ5j1Hhfj0sr",
        "outputId": "fa960d1e-099e-4bf3-fccb-a5d0170b50ac"
      },
      "outputs": [
        {
          "data": {
            "text/plain": [
              "2460.0"
            ]
          },
          "execution_count": 14,
          "metadata": {},
          "output_type": "execute_result"
        }
      ],
      "source": [
        "df[\"vitimas\"].sum()"
      ]
    },
    {
      "cell_type": "code",
      "execution_count": 15,
      "metadata": {
        "colab": {
          "base_uri": "https://localhost:8080/"
        },
        "id": "GzyuqNj4iyzS",
        "outputId": "65df2e07-cdae-4ad9-f375-0e5b9f74d671"
      },
      "outputs": [
        {
          "data": {
            "text/plain": [
              "array(['COM VÍTIMA', 'SEM VÍTIMA', 'VÍTIMA FATAL'], dtype=object)"
            ]
          },
          "execution_count": 15,
          "metadata": {},
          "output_type": "execute_result"
        }
      ],
      "source": [
        "df[\"natureza\"].unique()"
      ]
    },
    {
      "cell_type": "code",
      "execution_count": 16,
      "metadata": {
        "colab": {
          "base_uri": "https://localhost:8080/"
        },
        "id": "5Zsng-iGjoJs",
        "outputId": "e5788115-da07-4771-bbef-313cf658e135"
      },
      "outputs": [
        {
          "data": {
            "text/plain": [
              "vitimas\n",
              "1.0    1763\n",
              "0.0     582\n",
              "2.0     291\n",
              "3.0      26\n",
              "4.0       3\n",
              "5.0       2\n",
              "8.0       1\n",
              "7.0       1\n",
              "Name: count, dtype: int64"
            ]
          },
          "execution_count": 16,
          "metadata": {},
          "output_type": "execute_result"
        }
      ],
      "source": [
        "df[\"vitimas\"].value_counts()"
      ]
    },
    {
      "cell_type": "code",
      "execution_count": 17,
      "metadata": {
        "id": "QmeOWI3wkFLP"
      },
      "outputs": [],
      "source": [
        "# alterando coluna de data para datetime\n",
        "df[\"data\"] = pd.to_datetime(df[\"data\"])"
      ]
    },
    {
      "cell_type": "code",
      "execution_count": 18,
      "metadata": {
        "colab": {
          "base_uri": "https://localhost:8080/"
        },
        "id": "nxT9hK5Up2wM",
        "outputId": "0434fe51-4cd8-45ac-bc28-68f174a58ca4"
      },
      "outputs": [
        {
          "data": {
            "text/plain": [
              "Protocolo                            object\n",
              "data                         datetime64[ns]\n",
              "hora                                float64\n",
              "natureza                             object\n",
              "situacao                             object\n",
              "bairro                               object\n",
              "endereco                             object\n",
              "numero                               object\n",
              "detalhe_endereco_acidente            object\n",
              "complemento                          object\n",
              "bairro_cruzamento                    object\n",
              "num_semaforo                         object\n",
              "sentido_via                          object\n",
              "tipo                                 object\n",
              "auto                                 object\n",
              "moto                                 object\n",
              "ciclom                               object\n",
              "ciclista                             object\n",
              "pedestre                             object\n",
              "onibus                               object\n",
              "caminhao                             object\n",
              "viatura                              object\n",
              "outros                               object\n",
              "vitimas                             float64\n",
              "vitimasfatais                        object\n",
              "acidente_verificado                  object\n",
              "tempo_clima                          object\n",
              "situacao_semaforo                    object\n",
              "sinalizacao                          object\n",
              "condicao_via                         object\n",
              "conservacao_via                      object\n",
              "ponto_controle                       object\n",
              "situacao_placa                       object\n",
              "velocidade_max_via                   object\n",
              "mao_direcao                          object\n",
              "divisao_via1                         object\n",
              "divisao_via2                         object\n",
              "divisao_via3                         object\n",
              "dtype: object"
            ]
          },
          "execution_count": 18,
          "metadata": {},
          "output_type": "execute_result"
        }
      ],
      "source": [
        "df.dtypes"
      ]
    },
    {
      "cell_type": "code",
      "execution_count": 19,
      "metadata": {
        "colab": {
          "base_uri": "https://localhost:8080/"
        },
        "id": "4Zb2DXszp4NY",
        "outputId": "555e953e-4242-4173-c179-5ec04385ea77"
      },
      "outputs": [
        {
          "data": {
            "text/plain": [
              "data\n",
              "1     182.0\n",
              "2     158.0\n",
              "3     176.0\n",
              "4     168.0\n",
              "5     182.0\n",
              "6     212.0\n",
              "7     200.0\n",
              "8     239.0\n",
              "9     242.0\n",
              "10    224.0\n",
              "11    240.0\n",
              "12    237.0\n",
              "Name: vitimas, dtype: float64"
            ]
          },
          "execution_count": 19,
          "metadata": {},
          "output_type": "execute_result"
        }
      ],
      "source": [
        "df.groupby(df[\"data\"].dt.month)[\"vitimas\"].sum()"
      ]
    },
    {
      "cell_type": "code",
      "execution_count": 20,
      "metadata": {
        "colab": {
          "base_uri": "https://localhost:8080/"
        },
        "id": "GTYxKJLsqWck",
        "outputId": "ea798f7e-ae12-4983-9221-727710fd474c"
      },
      "outputs": [
        {
          "data": {
            "text/plain": [
              "Timestamp('2022-12-31 00:00:00')"
            ]
          },
          "execution_count": 20,
          "metadata": {},
          "output_type": "execute_result"
        }
      ],
      "source": [
        "max(df[\"data\"])"
      ]
    },
    {
      "cell_type": "code",
      "execution_count": 21,
      "metadata": {
        "colab": {
          "base_uri": "https://localhost:8080/"
        },
        "id": "M19i-UKJq2gY",
        "outputId": "1d1f0d6d-57cc-4771-d90b-852e611eaf66"
      },
      "outputs": [
        {
          "data": {
            "text/plain": [
              "Timestamp('2022-01-01 00:00:00')"
            ]
          },
          "execution_count": 21,
          "metadata": {},
          "output_type": "execute_result"
        }
      ],
      "source": [
        "min(df[\"data\"])"
      ]
    },
    {
      "cell_type": "code",
      "execution_count": 22,
      "metadata": {
        "colab": {
          "base_uri": "https://localhost:8080/"
        },
        "id": "Ty05SA8Cq5So",
        "outputId": "59390a2b-0a18-4e46-e44e-9556f4fe9fa8"
      },
      "outputs": [
        {
          "data": {
            "text/plain": [
              "Protocolo                       0\n",
              "data                            0\n",
              "hora                         2669\n",
              "natureza                        0\n",
              "situacao                        0\n",
              "bairro                         10\n",
              "endereco                        6\n",
              "numero                       1168\n",
              "detalhe_endereco_acidente    1656\n",
              "complemento                   155\n",
              "bairro_cruzamento              10\n",
              "num_semaforo                 2038\n",
              "sentido_via                  1117\n",
              "tipo                          106\n",
              "auto                            0\n",
              "moto                            0\n",
              "ciclom                          0\n",
              "ciclista                        0\n",
              "pedestre                        0\n",
              "onibus                          0\n",
              "caminhao                        0\n",
              "viatura                         0\n",
              "outros                          0\n",
              "vitimas                         0\n",
              "vitimasfatais                   0\n",
              "acidente_verificado           577\n",
              "tempo_clima                   558\n",
              "situacao_semaforo             579\n",
              "sinalizacao                   590\n",
              "condicao_via                  566\n",
              "conservacao_via               581\n",
              "ponto_controle                667\n",
              "situacao_placa                690\n",
              "velocidade_max_via           1902\n",
              "mao_direcao                   610\n",
              "divisao_via1                  643\n",
              "divisao_via2                 2459\n",
              "divisao_via3                 2638\n",
              "dtype: int64"
            ]
          },
          "execution_count": 22,
          "metadata": {},
          "output_type": "execute_result"
        }
      ],
      "source": [
        "df.isnull().sum()"
      ]
    },
    {
      "cell_type": "code",
      "execution_count": 23,
      "metadata": {
        "colab": {
          "base_uri": "https://localhost:8080/"
        },
        "id": "C0aRQVvqrC6_",
        "outputId": "02a73ce2-9510-4153-f45c-2783c573feaa"
      },
      "outputs": [
        {
          "data": {
            "text/plain": [
              "array(['COLISÃO FRONTAL', 'COLISÃO TRASEIRA', 'COLISÃO LATERAL',\n",
              "       'CAPOTAMENTO', nan, 'COLISÃO TRANSVERSAL',\n",
              "       'ATROPELAMENTO DE PESSOA', 'CHOQUE', 'COLISÃO COM CICLISTA',\n",
              "       'QUEDA', 'TOMBAMENTO', 'ATROPELAMENTO DE ANIMAL', 'ENGAVETAMENTO',\n",
              "       'RENDIÇÃO', 'OUTROS', 'PROTESTO', 'APOIO EMLURB', 'MONITORAMENTO',\n",
              "       'FISCALIZAÇÃO'], dtype=object)"
            ]
          },
          "execution_count": 23,
          "metadata": {},
          "output_type": "execute_result"
        }
      ],
      "source": [
        "df[\"tipo\"].unique()"
      ]
    },
    {
      "cell_type": "code",
      "execution_count": 24,
      "metadata": {
        "colab": {
          "base_uri": "https://localhost:8080/"
        },
        "id": "IoVxwbqmrdFH",
        "outputId": "22fc535b-b8fa-4758-94a0-a2ce79aff0a1"
      },
      "outputs": [
        {
          "data": {
            "text/plain": [
              "18"
            ]
          },
          "execution_count": 24,
          "metadata": {},
          "output_type": "execute_result"
        }
      ],
      "source": [
        "df[\"tipo\"].nunique()"
      ]
    },
    {
      "cell_type": "code",
      "execution_count": 25,
      "metadata": {
        "colab": {
          "base_uri": "https://localhost:8080/"
        },
        "id": "RvEeQBbmrnCz",
        "outputId": "a8cbfa9e-89d5-4ad3-9278-a51c6be3213b"
      },
      "outputs": [
        {
          "data": {
            "text/plain": [
              "array(['Bom', nan, 'Chuvoso', 'Nublado'], dtype=object)"
            ]
          },
          "execution_count": 25,
          "metadata": {},
          "output_type": "execute_result"
        }
      ],
      "source": [
        "df[\"tempo_clima\"].unique()"
      ]
    },
    {
      "cell_type": "code",
      "execution_count": 26,
      "metadata": {
        "colab": {
          "base_uri": "https://localhost:8080/",
          "height": 517
        },
        "id": "yz5TMLLdr-_M",
        "outputId": "4ff2f4a3-7739-42ca-ce6f-b830b3b04cdd"
      },
      "outputs": [
        {
          "data": {
            "image/png": "[encoded data removed]",
            "text/plain": [
              "<Figure size 640x480 with 1 Axes>"
            ]
          },
          "metadata": {},
          "output_type": "display_data"
        }
      ],
      "source": [
        "import matplotlib.pyplot as plt\n",
        "df[\"tempo_clima\"].value_counts().plot.bar(title=\"Total de Acidentes por Clima\", color=[\"red\",\"blue\",\"black\"])\n",
        "plt.xlabel(\"Clima\")\n",
        "plt.ylabel(\"Total acidentes\")\n",
        "plt.show()"
      ]
    },
    {
      "cell_type": "code",
      "execution_count": 27,
      "metadata": {
        "colab": {
          "base_uri": "https://localhost:8080/",
          "height": 143
        },
        "id": "VEz3NBQwvQBB",
        "outputId": "7040e6e4-0ff3-4569-db45-7fd1e637bc78"
      },
      "outputs": [
        {
          "data": {
            "text/html": [
              "<div>\n",
              "<style scoped>\n",
              "    .dataframe tbody tr th:only-of-type {\n",
              "        vertical-align: middle;\n",
              "    }\n",
              "\n",
              "    .dataframe tbody tr th {\n",
              "        vertical-align: top;\n",
              "    }\n",
              "\n",
              "    .dataframe thead th {\n",
              "        text-align: right;\n",
              "    }\n",
              "</style>\n",
              "<table border=\"1\" class=\"dataframe\">\n",
              "  <thead>\n",
              "    <tr style=\"text-align: right;\">\n",
              "      <th></th>\n",
              "      <th>Total</th>\n",
              "      <th>count</th>\n",
              "    </tr>\n",
              "  </thead>\n",
              "  <tbody>\n",
              "    <tr>\n",
              "      <th>0</th>\n",
              "      <td>Bom</td>\n",
              "      <td>1789</td>\n",
              "    </tr>\n",
              "    <tr>\n",
              "      <th>1</th>\n",
              "      <td>Chuvoso</td>\n",
              "      <td>309</td>\n",
              "    </tr>\n",
              "    <tr>\n",
              "      <th>2</th>\n",
              "      <td>Nublado</td>\n",
              "      <td>13</td>\n",
              "    </tr>\n",
              "  </tbody>\n",
              "</table>\n",
              "</div>"
            ],
            "text/plain": [
              "     Total  count\n",
              "0      Bom   1789\n",
              "1  Chuvoso    309\n",
              "2  Nublado     13"
            ]
          },
          "execution_count": 27,
          "metadata": {},
          "output_type": "execute_result"
        }
      ],
      "source": [
        "clima = df[\"tempo_clima\"].value_counts().reset_index().rename(columns={\"index\":\"Clima\",\"tempo_clima\":\"Total\"})\n",
        "clima"
      ]
    },
    {
      "cell_type": "code",
      "execution_count": 28,
      "metadata": {
        "colab": {
          "base_uri": "https://localhost:8080/",
          "height": 542
        },
        "id": "bs5BVGFLsfiU",
        "outputId": "1fd962c6-8abf-404b-c400-e45673b36785"
      },
      "outputs": [
        {
          "ename": "ValueError",
          "evalue": "Value of 'x' is not the name of a column in 'data_frame'. Expected one of ['Total', 'count'] but received: Clima",
          "output_type": "error",
          "traceback": [
            "\u001b[0;31m---------------------------------------------------------------------------\u001b[0m",
            "\u001b[0;31mValueError\u001b[0m                                Traceback (most recent call last)",
            "\u001b[1;32m/Users/jersonbrito/dev/curso-dados/pandas.ipynb Célula 27\u001b[0m line \u001b[0;36m2\n\u001b[1;32m      <a href='vscode-notebook-cell:/Users/jersonbrito/dev/curso-dados/pandas.ipynb#X35sZmlsZQ%3D%3D?line=0'>1</a>\u001b[0m \u001b[39mimport\u001b[39;00m \u001b[39mplotly\u001b[39;00m\u001b[39m.\u001b[39;00m\u001b[39mexpress\u001b[39;00m \u001b[39mas\u001b[39;00m \u001b[39mpx\u001b[39;00m\n\u001b[0;32m----> <a href='vscode-notebook-cell:/Users/jersonbrito/dev/curso-dados/pandas.ipynb#X35sZmlsZQ%3D%3D?line=1'>2</a>\u001b[0m fig \u001b[39m=\u001b[39m px\u001b[39m.\u001b[39;49mbar(clima, x\u001b[39m=\u001b[39;49m\u001b[39m\"\u001b[39;49m\u001b[39mClima\u001b[39;49m\u001b[39m\"\u001b[39;49m, y\u001b[39m=\u001b[39;49m\u001b[39m\"\u001b[39;49m\u001b[39mTotal\u001b[39;49m\u001b[39m\"\u001b[39;49m, text\u001b[39m=\u001b[39;49m\u001b[39m\"\u001b[39;49m\u001b[39mTotal\u001b[39;49m\u001b[39m\"\u001b[39;49m, color_discrete_sequence\u001b[39m=\u001b[39;49m[\u001b[39m\"\u001b[39;49m\u001b[39m#3e4095\u001b[39;49m\u001b[39m\"\u001b[39;49m])\n\u001b[1;32m      <a href='vscode-notebook-cell:/Users/jersonbrito/dev/curso-dados/pandas.ipynb#X35sZmlsZQ%3D%3D?line=2'>3</a>\u001b[0m fig\u001b[39m.\u001b[39mupdate_layout(title\u001b[39m=\u001b[39m\u001b[39m\"\u001b[39m\u001b[39mTotal de acidentes por Clima\u001b[39m\u001b[39m\"\u001b[39m, title_x\u001b[39m=\u001b[39m\u001b[39m0.5\u001b[39m)\n\u001b[1;32m      <a href='vscode-notebook-cell:/Users/jersonbrito/dev/curso-dados/pandas.ipynb#X35sZmlsZQ%3D%3D?line=3'>4</a>\u001b[0m fig\u001b[39m.\u001b[39mshow()\n",
            "File \u001b[0;32m~/dev/curso-dados/.venv/lib/python3.10/site-packages/plotly/express/_chart_types.py:373\u001b[0m, in \u001b[0;36mbar\u001b[0;34m(data_frame, x, y, color, pattern_shape, facet_row, facet_col, facet_col_wrap, facet_row_spacing, facet_col_spacing, hover_name, hover_data, custom_data, text, base, error_x, error_x_minus, error_y, error_y_minus, animation_frame, animation_group, category_orders, labels, color_discrete_sequence, color_discrete_map, color_continuous_scale, pattern_shape_sequence, pattern_shape_map, range_color, color_continuous_midpoint, opacity, orientation, barmode, log_x, log_y, range_x, range_y, text_auto, title, template, width, height)\u001b[0m\n\u001b[1;32m    325\u001b[0m \u001b[39mdef\u001b[39;00m \u001b[39mbar\u001b[39m(\n\u001b[1;32m    326\u001b[0m     data_frame\u001b[39m=\u001b[39m\u001b[39mNone\u001b[39;00m,\n\u001b[1;32m    327\u001b[0m     x\u001b[39m=\u001b[39m\u001b[39mNone\u001b[39;00m,\n\u001b[0;32m   (...)\u001b[0m\n\u001b[1;32m    367\u001b[0m     height\u001b[39m=\u001b[39m\u001b[39mNone\u001b[39;00m,\n\u001b[1;32m    368\u001b[0m ) \u001b[39m-\u001b[39m\u001b[39m>\u001b[39m go\u001b[39m.\u001b[39mFigure:\n\u001b[1;32m    369\u001b[0m \u001b[39m    \u001b[39m\u001b[39m\"\"\"\u001b[39;00m\n\u001b[1;32m    370\u001b[0m \u001b[39m    In a bar plot, each row of `data_frame` is represented as a rectangular\u001b[39;00m\n\u001b[1;32m    371\u001b[0m \u001b[39m    mark.\u001b[39;00m\n\u001b[1;32m    372\u001b[0m \u001b[39m    \"\"\"\u001b[39;00m\n\u001b[0;32m--> 373\u001b[0m     \u001b[39mreturn\u001b[39;00m make_figure(\n\u001b[1;32m    374\u001b[0m         args\u001b[39m=\u001b[39;49m\u001b[39mlocals\u001b[39;49m(),\n\u001b[1;32m    375\u001b[0m         constructor\u001b[39m=\u001b[39;49mgo\u001b[39m.\u001b[39;49mBar,\n\u001b[1;32m    376\u001b[0m         trace_patch\u001b[39m=\u001b[39;49m\u001b[39mdict\u001b[39;49m(textposition\u001b[39m=\u001b[39;49m\u001b[39m\"\u001b[39;49m\u001b[39mauto\u001b[39;49m\u001b[39m\"\u001b[39;49m),\n\u001b[1;32m    377\u001b[0m         layout_patch\u001b[39m=\u001b[39;49m\u001b[39mdict\u001b[39;49m(barmode\u001b[39m=\u001b[39;49mbarmode),\n\u001b[1;32m    378\u001b[0m     )\n",
            "File \u001b[0;32m~/dev/curso-dados/.venv/lib/python3.10/site-packages/plotly/express/_core.py:2076\u001b[0m, in \u001b[0;36mmake_figure\u001b[0;34m(args, constructor, trace_patch, layout_patch)\u001b[0m\n\u001b[1;32m   2073\u001b[0m layout_patch \u001b[39m=\u001b[39m layout_patch \u001b[39mor\u001b[39;00m {}\n\u001b[1;32m   2074\u001b[0m apply_default_cascade(args)\n\u001b[0;32m-> 2076\u001b[0m args \u001b[39m=\u001b[39m build_dataframe(args, constructor)\n\u001b[1;32m   2077\u001b[0m \u001b[39mif\u001b[39;00m constructor \u001b[39min\u001b[39;00m [go\u001b[39m.\u001b[39mTreemap, go\u001b[39m.\u001b[39mSunburst, go\u001b[39m.\u001b[39mIcicle] \u001b[39mand\u001b[39;00m args[\u001b[39m\"\u001b[39m\u001b[39mpath\u001b[39m\u001b[39m\"\u001b[39m] \u001b[39mis\u001b[39;00m \u001b[39mnot\u001b[39;00m \u001b[39mNone\u001b[39;00m:\n\u001b[1;32m   2078\u001b[0m     args \u001b[39m=\u001b[39m process_dataframe_hierarchy(args)\n",
            "File \u001b[0;32m~/dev/curso-dados/.venv/lib/python3.10/site-packages/plotly/express/_core.py:1485\u001b[0m, in \u001b[0;36mbuild_dataframe\u001b[0;34m(args, constructor)\u001b[0m\n\u001b[1;32m   1482\u001b[0m     args[\u001b[39m\"\u001b[39m\u001b[39mcolor\u001b[39m\u001b[39m\"\u001b[39m] \u001b[39m=\u001b[39m \u001b[39mNone\u001b[39;00m\n\u001b[1;32m   1483\u001b[0m \u001b[39m# now that things have been prepped, we do the systematic rewriting of `args`\u001b[39;00m\n\u001b[0;32m-> 1485\u001b[0m df_output, wide_id_vars \u001b[39m=\u001b[39m process_args_into_dataframe(\n\u001b[1;32m   1486\u001b[0m     args, wide_mode, var_name, value_name\n\u001b[1;32m   1487\u001b[0m )\n\u001b[1;32m   1489\u001b[0m \u001b[39m# now that `df_output` exists and `args` contains only references, we complete\u001b[39;00m\n\u001b[1;32m   1490\u001b[0m \u001b[39m# the special-case and wide-mode handling by further rewriting args and/or mutating\u001b[39;00m\n\u001b[1;32m   1491\u001b[0m \u001b[39m# df_output\u001b[39;00m\n\u001b[1;32m   1493\u001b[0m count_name \u001b[39m=\u001b[39m _escape_col_name(df_output, \u001b[39m\"\u001b[39m\u001b[39mcount\u001b[39m\u001b[39m\"\u001b[39m, [var_name, value_name])\n",
            "File \u001b[0;32m~/dev/curso-dados/.venv/lib/python3.10/site-packages/plotly/express/_core.py:1210\u001b[0m, in \u001b[0;36mprocess_args_into_dataframe\u001b[0;34m(args, wide_mode, var_name, value_name)\u001b[0m\n\u001b[1;32m   1208\u001b[0m         \u001b[39mif\u001b[39;00m argument \u001b[39m==\u001b[39m \u001b[39m\"\u001b[39m\u001b[39mindex\u001b[39m\u001b[39m\"\u001b[39m:\n\u001b[1;32m   1209\u001b[0m             err_msg \u001b[39m+\u001b[39m\u001b[39m=\u001b[39m \u001b[39m\"\u001b[39m\u001b[39m\\n\u001b[39;00m\u001b[39m To use the index, pass it in directly as `df.index`.\u001b[39m\u001b[39m\"\u001b[39m\n\u001b[0;32m-> 1210\u001b[0m         \u001b[39mraise\u001b[39;00m \u001b[39mValueError\u001b[39;00m(err_msg)\n\u001b[1;32m   1211\u001b[0m \u001b[39melif\u001b[39;00m length \u001b[39mand\u001b[39;00m \u001b[39mlen\u001b[39m(df_input[argument]) \u001b[39m!=\u001b[39m length:\n\u001b[1;32m   1212\u001b[0m     \u001b[39mraise\u001b[39;00m \u001b[39mValueError\u001b[39;00m(\n\u001b[1;32m   1213\u001b[0m         \u001b[39m\"\u001b[39m\u001b[39mAll arguments should have the same length. \u001b[39m\u001b[39m\"\u001b[39m\n\u001b[1;32m   1214\u001b[0m         \u001b[39m\"\u001b[39m\u001b[39mThe length of column argument `df[\u001b[39m\u001b[39m%s\u001b[39;00m\u001b[39m]` is \u001b[39m\u001b[39m%d\u001b[39;00m\u001b[39m, whereas the \u001b[39m\u001b[39m\"\u001b[39m\n\u001b[0;32m   (...)\u001b[0m\n\u001b[1;32m   1221\u001b[0m         )\n\u001b[1;32m   1222\u001b[0m     )\n",
            "\u001b[0;31mValueError\u001b[0m: Value of 'x' is not the name of a column in 'data_frame'. Expected one of ['Total', 'count'] but received: Clima"
          ]
        }
      ],
      "source": [
        "import plotly.express as px\n",
        "fig = px.bar(clima, x=\"Clima\", y=\"Total\", text=\"Total\", color_discrete_sequence=[\"#3e4095\"])\n",
        "fig.update_layout(title=\"Total de acidentes por Clima\", title_x=0.5)\n",
        "fig.show()"
      ]
    },
    {
      "cell_type": "code",
      "execution_count": null,
      "metadata": {
        "colab": {
          "base_uri": "https://localhost:8080/"
        },
        "id": "v8ad7gVkwDo9",
        "outputId": "4899f6e5-6e33-409e-f64e-309660bbb761"
      },
      "outputs": [
        {
          "data": {
            "text/plain": [
              "91"
            ]
          },
          "execution_count": 64,
          "metadata": {},
          "output_type": "execute_result"
        }
      ],
      "source": [
        "df[\"bairro\"].nunique()"
      ]
    },
    {
      "cell_type": "code",
      "execution_count": null,
      "metadata": {
        "colab": {
          "base_uri": "https://localhost:8080/",
          "height": 363
        },
        "id": "YtH7rWNqzZct",
        "outputId": "c7db271e-3312-4e9c-9e15-9b28b839ff8e"
      },
      "outputs": [
        {
          "data": {
            "text/html": [
              "\n",
              "  <div id=\"df-2f262bb8-3a08-451b-8b9d-df0a0d27bbbf\" class=\"colab-df-container\">\n",
              "    <div>\n",
              "<style scoped>\n",
              "    .dataframe tbody tr th:only-of-type {\n",
              "        vertical-align: middle;\n",
              "    }\n",
              "\n",
              "    .dataframe tbody tr th {\n",
              "        vertical-align: top;\n",
              "    }\n",
              "\n",
              "    .dataframe thead th {\n",
              "        text-align: right;\n",
              "    }\n",
              "</style>\n",
              "<table border=\"1\" class=\"dataframe\">\n",
              "  <thead>\n",
              "    <tr style=\"text-align: right;\">\n",
              "      <th></th>\n",
              "      <th>index</th>\n",
              "      <th>bairro</th>\n",
              "    </tr>\n",
              "  </thead>\n",
              "  <tbody>\n",
              "    <tr>\n",
              "      <th>9</th>\n",
              "      <td>PINA</td>\n",
              "      <td>69</td>\n",
              "    </tr>\n",
              "    <tr>\n",
              "      <th>8</th>\n",
              "      <td>AREIAS</td>\n",
              "      <td>71</td>\n",
              "    </tr>\n",
              "    <tr>\n",
              "      <th>7</th>\n",
              "      <td>CORDEIRO</td>\n",
              "      <td>72</td>\n",
              "    </tr>\n",
              "    <tr>\n",
              "      <th>6</th>\n",
              "      <td>CASA AMARELA</td>\n",
              "      <td>83</td>\n",
              "    </tr>\n",
              "    <tr>\n",
              "      <th>5</th>\n",
              "      <td>AFOGADOS</td>\n",
              "      <td>86</td>\n",
              "    </tr>\n",
              "    <tr>\n",
              "      <th>4</th>\n",
              "      <td>MADALENA</td>\n",
              "      <td>88</td>\n",
              "    </tr>\n",
              "    <tr>\n",
              "      <th>3</th>\n",
              "      <td>BOA VISTA</td>\n",
              "      <td>94</td>\n",
              "    </tr>\n",
              "    <tr>\n",
              "      <th>2</th>\n",
              "      <td>IMBIRIBEIRA</td>\n",
              "      <td>140</td>\n",
              "    </tr>\n",
              "    <tr>\n",
              "      <th>1</th>\n",
              "      <td>SANTO AMARO</td>\n",
              "      <td>141</td>\n",
              "    </tr>\n",
              "    <tr>\n",
              "      <th>0</th>\n",
              "      <td>BOA VIAGEM</td>\n",
              "      <td>301</td>\n",
              "    </tr>\n",
              "  </tbody>\n",
              "</table>\n",
              "</div>\n",
              "    <div class=\"colab-df-buttons\">\n",
              "\n",
              "  <div class=\"colab-df-container\">\n",
              "    <button class=\"colab-df-convert\" onclick=\"convertToInteractive('df-2f262bb8-3a08-451b-8b9d-df0a0d27bbbf')\"\n",
              "            title=\"Convert this dataframe to an interactive table.\"\n",
              "            style=\"display:none;\">\n",
              "\n",
              "  <svg xmlns=\"http://www.w3.org/2000/svg\" height=\"24px\" viewBox=\"0 -960 960 960\">\n",
              "    <path d=\"M120-120v-720h720v720H120Zm60-500h600v-160H180v160Zm220 220h160v-160H400v160Zm0 220h160v-160H400v160ZM180-400h160v-160H180v160Zm440 0h160v-160H620v160ZM180-180h160v-160H180v160Zm440 0h160v-160H620v160Z\"/>\n",
              "  </svg>\n",
              "    </button>\n",
              "\n",
              "  <style>\n",
              "    .colab-df-container {\n",
              "      display:flex;\n",
              "      gap: 12px;\n",
              "    }\n",
              "\n",
              "    .colab-df-convert {\n",
              "      background-color: #E8F0FE;\n",
              "      border: none;\n",
              "      border-radius: 50%;\n",
              "      cursor: pointer;\n",
              "      display: none;\n",
              "      fill: #1967D2;\n",
              "      height: 32px;\n",
              "      padding: 0 0 0 0;\n",
              "      width: 32px;\n",
              "    }\n",
              "\n",
              "    .colab-df-convert:hover {\n",
              "      background-color: #E2EBFA;\n",
              "      box-shadow: 0px 1px 2px rgba(60, 64, 67, 0.3), 0px 1px 3px 1px rgba(60, 64, 67, 0.15);\n",
              "      fill: #174EA6;\n",
              "    }\n",
              "\n",
              "    .colab-df-buttons div {\n",
              "      margin-bottom: 4px;\n",
              "    }\n",
              "\n",
              "    [theme=dark] .colab-df-convert {\n",
              "      background-color: #3B4455;\n",
              "      fill: #D2E3FC;\n",
              "    }\n",
              "\n",
              "    [theme=dark] .colab-df-convert:hover {\n",
              "      background-color: #434B5C;\n",
              "      box-shadow: 0px 1px 3px 1px rgba(0, 0, 0, 0.15);\n",
              "      filter: drop-shadow(0px 1px 2px rgba(0, 0, 0, 0.3));\n",
              "      fill: #FFFFFF;\n",
              "    }\n",
              "  </style>\n",
              "\n",
              "    <script>\n",
              "      const buttonEl =\n",
              "        document.querySelector('#df-2f262bb8-3a08-451b-8b9d-df0a0d27bbbf button.colab-df-convert');\n",
              "      buttonEl.style.display =\n",
              "        google.colab.kernel.accessAllowed ? 'block' : 'none';\n",
              "\n",
              "      async function convertToInteractive(key) {\n",
              "        const element = document.querySelector('#df-2f262bb8-3a08-451b-8b9d-df0a0d27bbbf');\n",
              "        const dataTable =\n",
              "          await google.colab.kernel.invokeFunction('convertToInteractive',\n",
              "                                                    [key], {});\n",
              "        if (!dataTable) return;\n",
              "\n",
              "        const docLinkHtml = 'Like what you see? Visit the ' +\n",
              "          '<a target=\"_blank\" href=https://colab.research.google.com/notebooks/data_table.ipynb>data table notebook</a>'\n",
              "          + ' to learn more about interactive tables.';\n",
              "        element.innerHTML = '';\n",
              "        dataTable['output_type'] = 'display_data';\n",
              "        await google.colab.output.renderOutput(dataTable, element);\n",
              "        const docLink = document.createElement('div');\n",
              "        docLink.innerHTML = docLinkHtml;\n",
              "        element.appendChild(docLink);\n",
              "      }\n",
              "    </script>\n",
              "  </div>\n",
              "\n",
              "\n",
              "<div id=\"df-614a5949-f671-458e-8b5a-e22c527e38d9\">\n",
              "  <button class=\"colab-df-quickchart\" onclick=\"quickchart('df-614a5949-f671-458e-8b5a-e22c527e38d9')\"\n",
              "            title=\"Suggest charts.\"\n",
              "            style=\"display:none;\">\n",
              "\n",
              "<svg xmlns=\"http://www.w3.org/2000/svg\" height=\"24px\"viewBox=\"0 0 24 24\"\n",
              "     width=\"24px\">\n",
              "    <g>\n",
              "        <path d=\"M19 3H5c-1.1 0-2 .9-2 2v14c0 1.1.9 2 2 2h14c1.1 0 2-.9 2-2V5c0-1.1-.9-2-2-2zM9 17H7v-7h2v7zm4 0h-2V7h2v10zm4 0h-2v-4h2v4z\"/>\n",
              "    </g>\n",
              "</svg>\n",
              "  </button>\n",
              "\n",
              "<style>\n",
              "  .colab-df-quickchart {\n",
              "      --bg-color: #E8F0FE;\n",
              "      --fill-color: #1967D2;\n",
              "      --hover-bg-color: #E2EBFA;\n",
              "      --hover-fill-color: #174EA6;\n",
              "      --disabled-fill-color: #AAA;\n",
              "      --disabled-bg-color: #DDD;\n",
              "  }\n",
              "\n",
              "  [theme=dark] .colab-df-quickchart {\n",
              "      --bg-color: #3B4455;\n",
              "      --fill-color: #D2E3FC;\n",
              "      --hover-bg-color: #434B5C;\n",
              "      --hover-fill-color: #FFFFFF;\n",
              "      --disabled-bg-color: #3B4455;\n",
              "      --disabled-fill-color: #666;\n",
              "  }\n",
              "\n",
              "  .colab-df-quickchart {\n",
              "    background-color: var(--bg-color);\n",
              "    border: none;\n",
              "    border-radius: 50%;\n",
              "    cursor: pointer;\n",
              "    display: none;\n",
              "    fill: var(--fill-color);\n",
              "    height: 32px;\n",
              "    padding: 0;\n",
              "    width: 32px;\n",
              "  }\n",
              "\n",
              "  .colab-df-quickchart:hover {\n",
              "    background-color: var(--hover-bg-color);\n",
              "    box-shadow: 0 1px 2px rgba(60, 64, 67, 0.3), 0 1px 3px 1px rgba(60, 64, 67, 0.15);\n",
              "    fill: var(--button-hover-fill-color);\n",
              "  }\n",
              "\n",
              "  .colab-df-quickchart-complete:disabled,\n",
              "  .colab-df-quickchart-complete:disabled:hover {\n",
              "    background-color: var(--disabled-bg-color);\n",
              "    fill: var(--disabled-fill-color);\n",
              "    box-shadow: none;\n",
              "  }\n",
              "\n",
              "  .colab-df-spinner {\n",
              "    border: 2px solid var(--fill-color);\n",
              "    border-color: transparent;\n",
              "    border-bottom-color: var(--fill-color);\n",
              "    animation:\n",
              "      spin 1s steps(1) infinite;\n",
              "  }\n",
              "\n",
              "  @keyframes spin {\n",
              "    0% {\n",
              "      border-color: transparent;\n",
              "      border-bottom-color: var(--fill-color);\n",
              "      border-left-color: var(--fill-color);\n",
              "    }\n",
              "    20% {\n",
              "      border-color: transparent;\n",
              "      border-left-color: var(--fill-color);\n",
              "      border-top-color: var(--fill-color);\n",
              "    }\n",
              "    30% {\n",
              "      border-color: transparent;\n",
              "      border-left-color: var(--fill-color);\n",
              "      border-top-color: var(--fill-color);\n",
              "      border-right-color: var(--fill-color);\n",
              "    }\n",
              "    40% {\n",
              "      border-color: transparent;\n",
              "      border-right-color: var(--fill-color);\n",
              "      border-top-color: var(--fill-color);\n",
              "    }\n",
              "    60% {\n",
              "      border-color: transparent;\n",
              "      border-right-color: var(--fill-color);\n",
              "    }\n",
              "    80% {\n",
              "      border-color: transparent;\n",
              "      border-right-color: var(--fill-color);\n",
              "      border-bottom-color: var(--fill-color);\n",
              "    }\n",
              "    90% {\n",
              "      border-color: transparent;\n",
              "      border-bottom-color: var(--fill-color);\n",
              "    }\n",
              "  }\n",
              "</style>\n",
              "\n",
              "  <script>\n",
              "    async function quickchart(key) {\n",
              "      const quickchartButtonEl =\n",
              "        document.querySelector('#' + key + ' button');\n",
              "      quickchartButtonEl.disabled = true;  // To prevent multiple clicks.\n",
              "      quickchartButtonEl.classList.add('colab-df-spinner');\n",
              "      try {\n",
              "        const charts = await google.colab.kernel.invokeFunction(\n",
              "            'suggestCharts', [key], {});\n",
              "      } catch (error) {\n",
              "        console.error('Error during call to suggestCharts:', error);\n",
              "      }\n",
              "      quickchartButtonEl.classList.remove('colab-df-spinner');\n",
              "      quickchartButtonEl.classList.add('colab-df-quickchart-complete');\n",
              "    }\n",
              "    (() => {\n",
              "      let quickchartButtonEl =\n",
              "        document.querySelector('#df-614a5949-f671-458e-8b5a-e22c527e38d9 button');\n",
              "      quickchartButtonEl.style.display =\n",
              "        google.colab.kernel.accessAllowed ? 'block' : 'none';\n",
              "    })();\n",
              "  </script>\n",
              "</div>\n",
              "    </div>\n",
              "  </div>\n"
            ],
            "text/plain": [
              "          index  bairro\n",
              "9          PINA      69\n",
              "8        AREIAS      71\n",
              "7      CORDEIRO      72\n",
              "6  CASA AMARELA      83\n",
              "5      AFOGADOS      86\n",
              "4      MADALENA      88\n",
              "3     BOA VISTA      94\n",
              "2   IMBIRIBEIRA     140\n",
              "1   SANTO AMARO     141\n",
              "0    BOA VIAGEM     301"
            ]
          },
          "execution_count": 72,
          "metadata": {},
          "output_type": "execute_result"
        }
      ],
      "source": [
        "bairro = df[\"bairro\"].value_counts().head(10).reset_index()\n",
        "bairro = bairro.sort_values(by=\"bairro\", ascending=True)\n",
        "bairro"
      ]
    },
    {
      "cell_type": "code",
      "execution_count": null,
      "metadata": {
        "colab": {
          "base_uri": "https://localhost:8080/",
          "height": 542
        },
        "id": "E9V59z0wzpfq",
        "outputId": "15b4c443-1814-4fb2-9bba-7a02af58fd38"
      },
      "outputs": [
        {
          "data": {
            "text/html": [
              "<html>\n",
              "<head><meta charset=\"utf-8\" /></head>\n",
              "<body>\n",
              "    <div>            <script src=\"https://cdnjs.cloudflare.com/ajax/libs/mathjax/2.7.5/MathJax.js?config=TeX-AMS-MML_SVG\"></script><script type=\"text/javascript\">if (window.MathJax && window.MathJax.Hub && window.MathJax.Hub.Config) {window.MathJax.Hub.Config({SVG: {font: \"STIX-Web\"}});}</script>                <script type=\"text/javascript\">window.PlotlyConfig = {MathJaxConfig: 'local'};</script>\n",
              "        <script charset=\"utf-8\" src=\"https://cdn.plot.ly/plotly-2.24.1.min.js\"></script>                <div id=\"8ae66480-8732-4543-9791-1f79dc288c4e\" class=\"plotly-graph-div\" style=\"height:525px; width:100%;\"></div>            <script type=\"text/javascript\">                                    window.PLOTLYENV=window.PLOTLYENV || {};                                    if (document.getElementById(\"8ae66480-8732-4543-9791-1f79dc288c4e\")) {                    Plotly.newPlot(                        \"8ae66480-8732-4543-9791-1f79dc288c4e\",                        [{\"alignmentgroup\":\"True\",\"hovertemplate\":\"bairro=%{text}\\u003cbr\\u003eindex=%{y}\\u003cextra\\u003e\\u003c\\u002fextra\\u003e\",\"legendgroup\":\"\",\"marker\":{\"color\":\"#3e4095\",\"pattern\":{\"shape\":\"\"}},\"name\":\"\",\"offsetgroup\":\"\",\"orientation\":\"h\",\"showlegend\":false,\"text\":[69.0,71.0,72.0,83.0,86.0,88.0,94.0,140.0,141.0,301.0],\"textposition\":\"auto\",\"x\":[69,71,72,83,86,88,94,140,141,301],\"xaxis\":\"x\",\"y\":[\"PINA\",\"AREIAS\",\"CORDEIRO\",\"CASA AMARELA\",\"AFOGADOS\",\"MADALENA\",\"BOA VISTA\",\"IMBIRIBEIRA\",\"SANTO AMARO\",\"BOA VIAGEM\"],\"yaxis\":\"y\",\"type\":\"bar\"}],                        {\"template\":{\"data\":{\"histogram2dcontour\":[{\"type\":\"histogram2dcontour\",\"colorbar\":{\"outlinewidth\":0,\"ticks\":\"\"},\"colorscale\":[[0.0,\"#0d0887\"],[0.1111111111111111,\"#46039f\"],[0.2222222222222222,\"#7201a8\"],[0.3333333333333333,\"#9c179e\"],[0.4444444444444444,\"#bd3786\"],[0.5555555555555556,\"#d8576b\"],[0.6666666666666666,\"#ed7953\"],[0.7777777777777778,\"#fb9f3a\"],[0.8888888888888888,\"#fdca26\"],[1.0,\"#f0f921\"]]}],\"choropleth\":[{\"type\":\"choropleth\",\"colorbar\":{\"outlinewidth\":0,\"ticks\":\"\"}}],\"histogram2d\":[{\"type\":\"histogram2d\",\"colorbar\":{\"outlinewidth\":0,\"ticks\":\"\"},\"colorscale\":[[0.0,\"#0d0887\"],[0.1111111111111111,\"#46039f\"],[0.2222222222222222,\"#7201a8\"],[0.3333333333333333,\"#9c179e\"],[0.4444444444444444,\"#bd3786\"],[0.5555555555555556,\"#d8576b\"],[0.6666666666666666,\"#ed7953\"],[0.7777777777777778,\"#fb9f3a\"],[0.8888888888888888,\"#fdca26\"],[1.0,\"#f0f921\"]]}],\"heatmap\":[{\"type\":\"heatmap\",\"colorbar\":{\"outlinewidth\":0,\"ticks\":\"\"},\"colorscale\":[[0.0,\"#0d0887\"],[0.1111111111111111,\"#46039f\"],[0.2222222222222222,\"#7201a8\"],[0.3333333333333333,\"#9c179e\"],[0.4444444444444444,\"#bd3786\"],[0.5555555555555556,\"#d8576b\"],[0.6666666666666666,\"#ed7953\"],[0.7777777777777778,\"#fb9f3a\"],[0.8888888888888888,\"#fdca26\"],[1.0,\"#f0f921\"]]}],\"heatmapgl\":[{\"type\":\"heatmapgl\",\"colorbar\":{\"outlinewidth\":0,\"ticks\":\"\"},\"colorscale\":[[0.0,\"#0d0887\"],[0.1111111111111111,\"#46039f\"],[0.2222222222222222,\"#7201a8\"],[0.3333333333333333,\"#9c179e\"],[0.4444444444444444,\"#bd3786\"],[0.5555555555555556,\"#d8576b\"],[0.6666666666666666,\"#ed7953\"],[0.7777777777777778,\"#fb9f3a\"],[0.8888888888888888,\"#fdca26\"],[1.0,\"#f0f921\"]]}],\"contourcarpet\":[{\"type\":\"contourcarpet\",\"colorbar\":{\"outlinewidth\":0,\"ticks\":\"\"}}],\"contour\":[{\"type\":\"contour\",\"colorbar\":{\"outlinewidth\":0,\"ticks\":\"\"},\"colorscale\":[[0.0,\"#0d0887\"],[0.1111111111111111,\"#46039f\"],[0.2222222222222222,\"#7201a8\"],[0.3333333333333333,\"#9c179e\"],[0.4444444444444444,\"#bd3786\"],[0.5555555555555556,\"#d8576b\"],[0.6666666666666666,\"#ed7953\"],[0.7777777777777778,\"#fb9f3a\"],[0.8888888888888888,\"#fdca26\"],[1.0,\"#f0f921\"]]}],\"surface\":[{\"type\":\"surface\",\"colorbar\":{\"outlinewidth\":0,\"ticks\":\"\"},\"colorscale\":[[0.0,\"#0d0887\"],[0.1111111111111111,\"#46039f\"],[0.2222222222222222,\"#7201a8\"],[0.3333333333333333,\"#9c179e\"],[0.4444444444444444,\"#bd3786\"],[0.5555555555555556,\"#d8576b\"],[0.6666666666666666,\"#ed7953\"],[0.7777777777777778,\"#fb9f3a\"],[0.8888888888888888,\"#fdca26\"],[1.0,\"#f0f921\"]]}],\"mesh3d\":[{\"type\":\"mesh3d\",\"colorbar\":{\"outlinewidth\":0,\"ticks\":\"\"}}],\"scatter\":[{\"fillpattern\":{\"fillmode\":\"overlay\",\"size\":10,\"solidity\":0.2},\"type\":\"scatter\"}],\"parcoords\":[{\"type\":\"parcoords\",\"line\":{\"colorbar\":{\"outlinewidth\":0,\"ticks\":\"\"}}}],\"scatterpolargl\":[{\"type\":\"scatterpolargl\",\"marker\":{\"colorbar\":{\"outlinewidth\":0,\"ticks\":\"\"}}}],\"bar\":[{\"error_x\":{\"color\":\"#2a3f5f\"},\"error_y\":{\"color\":\"#2a3f5f\"},\"marker\":{\"line\":{\"color\":\"#E5ECF6\",\"width\":0.5},\"pattern\":{\"fillmode\":\"overlay\",\"size\":10,\"solidity\":0.2}},\"type\":\"bar\"}],\"scattergeo\":[{\"type\":\"scattergeo\",\"marker\":{\"colorbar\":{\"outlinewidth\":0,\"ticks\":\"\"}}}],\"scatterpolar\":[{\"type\":\"scatterpolar\",\"marker\":{\"colorbar\":{\"outlinewidth\":0,\"ticks\":\"\"}}}],\"histogram\":[{\"marker\":{\"pattern\":{\"fillmode\":\"overlay\",\"size\":10,\"solidity\":0.2}},\"type\":\"histogram\"}],\"scattergl\":[{\"type\":\"scattergl\",\"marker\":{\"colorbar\":{\"outlinewidth\":0,\"ticks\":\"\"}}}],\"scatter3d\":[{\"type\":\"scatter3d\",\"line\":{\"colorbar\":{\"outlinewidth\":0,\"ticks\":\"\"}},\"marker\":{\"colorbar\":{\"outlinewidth\":0,\"ticks\":\"\"}}}],\"scattermapbox\":[{\"type\":\"scattermapbox\",\"marker\":{\"colorbar\":{\"outlinewidth\":0,\"ticks\":\"\"}}}],\"scatterternary\":[{\"type\":\"scatterternary\",\"marker\":{\"colorbar\":{\"outlinewidth\":0,\"ticks\":\"\"}}}],\"scattercarpet\":[{\"type\":\"scattercarpet\",\"marker\":{\"colorbar\":{\"outlinewidth\":0,\"ticks\":\"\"}}}],\"carpet\":[{\"aaxis\":{\"endlinecolor\":\"#2a3f5f\",\"gridcolor\":\"white\",\"linecolor\":\"white\",\"minorgridcolor\":\"white\",\"startlinecolor\":\"#2a3f5f\"},\"baxis\":{\"endlinecolor\":\"#2a3f5f\",\"gridcolor\":\"white\",\"linecolor\":\"white\",\"minorgridcolor\":\"white\",\"startlinecolor\":\"#2a3f5f\"},\"type\":\"carpet\"}],\"table\":[{\"cells\":{\"fill\":{\"color\":\"#EBF0F8\"},\"line\":{\"color\":\"white\"}},\"header\":{\"fill\":{\"color\":\"#C8D4E3\"},\"line\":{\"color\":\"white\"}},\"type\":\"table\"}],\"barpolar\":[{\"marker\":{\"line\":{\"color\":\"#E5ECF6\",\"width\":0.5},\"pattern\":{\"fillmode\":\"overlay\",\"size\":10,\"solidity\":0.2}},\"type\":\"barpolar\"}],\"pie\":[{\"automargin\":true,\"type\":\"pie\"}]},\"layout\":{\"autotypenumbers\":\"strict\",\"colorway\":[\"#636efa\",\"#EF553B\",\"#00cc96\",\"#ab63fa\",\"#FFA15A\",\"#19d3f3\",\"#FF6692\",\"#B6E880\",\"#FF97FF\",\"#FECB52\"],\"font\":{\"color\":\"#2a3f5f\"},\"hovermode\":\"closest\",\"hoverlabel\":{\"align\":\"left\"},\"paper_bgcolor\":\"white\",\"plot_bgcolor\":\"#E5ECF6\",\"polar\":{\"bgcolor\":\"#E5ECF6\",\"angularaxis\":{\"gridcolor\":\"white\",\"linecolor\":\"white\",\"ticks\":\"\"},\"radialaxis\":{\"gridcolor\":\"white\",\"linecolor\":\"white\",\"ticks\":\"\"}},\"ternary\":{\"bgcolor\":\"#E5ECF6\",\"aaxis\":{\"gridcolor\":\"white\",\"linecolor\":\"white\",\"ticks\":\"\"},\"baxis\":{\"gridcolor\":\"white\",\"linecolor\":\"white\",\"ticks\":\"\"},\"caxis\":{\"gridcolor\":\"white\",\"linecolor\":\"white\",\"ticks\":\"\"}},\"coloraxis\":{\"colorbar\":{\"outlinewidth\":0,\"ticks\":\"\"}},\"colorscale\":{\"sequential\":[[0.0,\"#0d0887\"],[0.1111111111111111,\"#46039f\"],[0.2222222222222222,\"#7201a8\"],[0.3333333333333333,\"#9c179e\"],[0.4444444444444444,\"#bd3786\"],[0.5555555555555556,\"#d8576b\"],[0.6666666666666666,\"#ed7953\"],[0.7777777777777778,\"#fb9f3a\"],[0.8888888888888888,\"#fdca26\"],[1.0,\"#f0f921\"]],\"sequentialminus\":[[0.0,\"#0d0887\"],[0.1111111111111111,\"#46039f\"],[0.2222222222222222,\"#7201a8\"],[0.3333333333333333,\"#9c179e\"],[0.4444444444444444,\"#bd3786\"],[0.5555555555555556,\"#d8576b\"],[0.6666666666666666,\"#ed7953\"],[0.7777777777777778,\"#fb9f3a\"],[0.8888888888888888,\"#fdca26\"],[1.0,\"#f0f921\"]],\"diverging\":[[0,\"#8e0152\"],[0.1,\"#c51b7d\"],[0.2,\"#de77ae\"],[0.3,\"#f1b6da\"],[0.4,\"#fde0ef\"],[0.5,\"#f7f7f7\"],[0.6,\"#e6f5d0\"],[0.7,\"#b8e186\"],[0.8,\"#7fbc41\"],[0.9,\"#4d9221\"],[1,\"#276419\"]]},\"xaxis\":{\"gridcolor\":\"white\",\"linecolor\":\"white\",\"ticks\":\"\",\"title\":{\"standoff\":15},\"zerolinecolor\":\"white\",\"automargin\":true,\"zerolinewidth\":2},\"yaxis\":{\"gridcolor\":\"white\",\"linecolor\":\"white\",\"ticks\":\"\",\"title\":{\"standoff\":15},\"zerolinecolor\":\"white\",\"automargin\":true,\"zerolinewidth\":2},\"scene\":{\"xaxis\":{\"backgroundcolor\":\"#E5ECF6\",\"gridcolor\":\"white\",\"linecolor\":\"white\",\"showbackground\":true,\"ticks\":\"\",\"zerolinecolor\":\"white\",\"gridwidth\":2},\"yaxis\":{\"backgroundcolor\":\"#E5ECF6\",\"gridcolor\":\"white\",\"linecolor\":\"white\",\"showbackground\":true,\"ticks\":\"\",\"zerolinecolor\":\"white\",\"gridwidth\":2},\"zaxis\":{\"backgroundcolor\":\"#E5ECF6\",\"gridcolor\":\"white\",\"linecolor\":\"white\",\"showbackground\":true,\"ticks\":\"\",\"zerolinecolor\":\"white\",\"gridwidth\":2}},\"shapedefaults\":{\"line\":{\"color\":\"#2a3f5f\"}},\"annotationdefaults\":{\"arrowcolor\":\"#2a3f5f\",\"arrowhead\":0,\"arrowwidth\":1},\"geo\":{\"bgcolor\":\"white\",\"landcolor\":\"#E5ECF6\",\"subunitcolor\":\"white\",\"showland\":true,\"showlakes\":true,\"lakecolor\":\"white\"},\"title\":{\"x\":0.05},\"mapbox\":{\"style\":\"light\"}}},\"xaxis\":{\"anchor\":\"y\",\"domain\":[0.0,1.0],\"title\":{\"text\":\"bairro\"}},\"yaxis\":{\"anchor\":\"x\",\"domain\":[0.0,1.0],\"title\":{\"text\":\"index\"}},\"legend\":{\"tracegroupgap\":0},\"margin\":{\"t\":60},\"barmode\":\"relative\",\"title\":{\"text\":\"Top 10 acidentes por Bairro\",\"x\":0.5}},                        {\"responsive\": true}                    ).then(function(){\n",
              "                            \n",
              "var gd = document.getElementById('8ae66480-8732-4543-9791-1f79dc288c4e');\n",
              "var x = new MutationObserver(function (mutations, observer) {{\n",
              "        var display = window.getComputedStyle(gd).display;\n",
              "        if (!display || display === 'none') {{\n",
              "            console.log([gd, 'removed!']);\n",
              "            Plotly.purge(gd);\n",
              "            observer.disconnect();\n",
              "        }}\n",
              "}});\n",
              "\n",
              "// Listen for the removal of the full notebook cells\n",
              "var notebookContainer = gd.closest('#notebook-container');\n",
              "if (notebookContainer) {{\n",
              "    x.observe(notebookContainer, {childList: true});\n",
              "}}\n",
              "\n",
              "// Listen for the clearing of the current output cell\n",
              "var outputEl = gd.closest('.output');\n",
              "if (outputEl) {{\n",
              "    x.observe(outputEl, {childList: true});\n",
              "}}\n",
              "\n",
              "                        })                };                            </script>        </div>\n",
              "</body>\n",
              "</html>"
            ]
          },
          "metadata": {},
          "output_type": "display_data"
        }
      ],
      "source": [
        "fig = px.bar(bairro, x=\"bairro\", y=\"index\", text=\"bairro\",\n",
        "             color_discrete_sequence=[\"#3e4095\"], orientation=\"h\")\n",
        "fig.update_layout(title=\"Top 10 acidentes por Bairro\", title_x=0.5)\n",
        "fig.show()"
      ]
    },
    {
      "cell_type": "code",
      "execution_count": null,
      "metadata": {
        "id": "bBP590z_1Jgs"
      },
      "outputs": [],
      "source": []
    }
  ],
  "metadata": {
    "colab": {
      "provenance": []
    },
    "kernelspec": {
      "display_name": "Python 3",
      "name": "python3"
    },
    "language_info": {
      "codemirror_mode": {
        "name": "ipython",
        "version": 3
      },
      "file_extension": ".py",
      "mimetype": "text/x-python",
      "name": "python",
      "nbconvert_exporter": "python",
      "pygments_lexer": "ipython3",
      "version": "3.10.0"
    }
  },
  "nbformat": 4,
  "nbformat_minor": 0
}
